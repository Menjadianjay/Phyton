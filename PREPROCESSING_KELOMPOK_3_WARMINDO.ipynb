{
  "nbformat": 4,
  "nbformat_minor": 0,
  "metadata": {
    "colab": {
      "provenance": [],
      "include_colab_link": true
    },
    "kernelspec": {
      "name": "ir",
      "display_name": "R"
    },
    "language_info": {
      "name": "R"
    }
  },
  "cells": [
    {
      "cell_type": "markdown",
      "metadata": {
        "id": "view-in-github",
        "colab_type": "text"
      },
      "source": [
        "<a href=\"https://colab.research.google.com/github/Menjadianjay/Phyton/blob/main/PREPROCESSING_KELOMPOK_3_WARMINDO.ipynb\" target=\"_parent\"><img src=\"https://colab.research.google.com/assets/colab-badge.svg\" alt=\"Open In Colab\"/></a>"
      ]
    },
    {
      "cell_type": "markdown",
      "source": [
        "TUGAS KELOMPOK PROCESS DATA WARMINDO\n",
        "\n",
        "\n",
        "---\n",
        "\n",
        "\n",
        "* Nicolaus Reva S (225314097)\n",
        "* Fernando Yudistira Bessie (225314096)\n",
        "* Joseph S.A. De Ornay (225314118)\n",
        "* Gabriel Bayu H. (225314095)\n",
        "* Brian Willyandri Siregar (225314111)\n",
        "* Adelberth Joseph Lako (225314098)\n",
        "  \n",
        "\n"
      ],
      "metadata": {
        "id": "oP6eJhDek6jx"
      }
    },
    {
      "cell_type": "code",
      "source": [
        "install.packages(\"pracma\")\n",
        "library(pracma)"
      ],
      "metadata": {
        "colab": {
          "base_uri": "https://localhost:8080/"
        },
        "id": "lNk7Q5XM5BGX",
        "outputId": "92aec7f9-9d90-4a12-bd3c-bc232f8fe008"
      },
      "execution_count": null,
      "outputs": [
        {
          "output_type": "stream",
          "name": "stderr",
          "text": [
            "Installing package into ‘/usr/local/lib/R/site-library’\n",
            "(as ‘lib’ is unspecified)\n",
            "\n"
          ]
        }
      ]
    },
    {
      "cell_type": "code",
      "source": [
        "install.packages(\"RColorBrewer\")\n",
        "library(RColorBrewer)"
      ],
      "metadata": {
        "colab": {
          "base_uri": "https://localhost:8080/"
        },
        "id": "d0nq7f-rDJ27",
        "outputId": "01cd5bb8-7af1-4342-9954-8d59b887f88d"
      },
      "execution_count": null,
      "outputs": [
        {
          "output_type": "stream",
          "name": "stderr",
          "text": [
            "Installing package into ‘/usr/local/lib/R/site-library’\n",
            "(as ‘lib’ is unspecified)\n",
            "\n"
          ]
        }
      ]
    },
    {
      "cell_type": "code",
      "source": [
        "install.packages(\"dplyr\")\n",
        "library(dplyr)"
      ],
      "metadata": {
        "colab": {
          "base_uri": "https://localhost:8080/"
        },
        "id": "XM48VVWKLmbs",
        "outputId": "ee3f2bcc-ee0f-4509-af3c-ee7706d9bfbb"
      },
      "execution_count": null,
      "outputs": [
        {
          "output_type": "stream",
          "name": "stderr",
          "text": [
            "Installing package into ‘/usr/local/lib/R/site-library’\n",
            "(as ‘lib’ is unspecified)\n",
            "\n"
          ]
        }
      ]
    },
    {
      "cell_type": "code",
      "source": [
        "install.packages(\"tidyverse\")\n",
        "install.packages(\"ggplot2\")\n",
        "library('ggplot2')"
      ],
      "metadata": {
        "colab": {
          "base_uri": "https://localhost:8080/"
        },
        "id": "NRJYTKTjbg7t",
        "outputId": "e582ebd8-6277-4cd0-c9c9-b04d67d6885f"
      },
      "execution_count": null,
      "outputs": [
        {
          "output_type": "stream",
          "name": "stderr",
          "text": [
            "Installing package into ‘/usr/local/lib/R/site-library’\n",
            "(as ‘lib’ is unspecified)\n",
            "\n",
            "Installing package into ‘/usr/local/lib/R/site-library’\n",
            "(as ‘lib’ is unspecified)\n",
            "\n"
          ]
        }
      ]
    },
    {
      "cell_type": "code",
      "source": [
        "data_warmindo <- read.csv(\"/content/HASIL RESPONDEN.csv\")\n",
        "data_warmindo"
      ],
      "metadata": {
        "colab": {
          "base_uri": "https://localhost:8080/",
          "height": 1000
        },
        "id": "sNP9RyTMPCi9",
        "outputId": "2809ecc0-1994-4b0f-f221-f4e9031beba4"
      },
      "execution_count": null,
      "outputs": [
        {
          "output_type": "display_data",
          "data": {
            "text/html": [
              "<table class=\"dataframe\">\n",
              "<caption>A data.frame: 34 × 12</caption>\n",
              "<thead>\n",
              "\t<tr><th scope=col>Timestamp</th><th scope=col>Nama</th><th scope=col>Pilih.Makanan.dibawah.ini</th><th scope=col>Pilih.Minuman.dibawah.ini</th><th scope=col>Pilih.snack.dibawah.ini</th><th scope=col>Makan.dimana.</th><th scope=col>Masukan.Alamat.tujuan.anda</th><th scope=col>Pilih.metode.pembayaran</th><th scope=col>jumlah.makanan</th><th scope=col>Jumlah.Minuman</th><th scope=col>Jumlah.Snack</th><th scope=col>Pesan.Berapa.</th></tr>\n",
              "\t<tr><th scope=col>&lt;chr&gt;</th><th scope=col>&lt;chr&gt;</th><th scope=col>&lt;chr&gt;</th><th scope=col>&lt;chr&gt;</th><th scope=col>&lt;chr&gt;</th><th scope=col>&lt;chr&gt;</th><th scope=col>&lt;chr&gt;</th><th scope=col>&lt;chr&gt;</th><th scope=col>&lt;int&gt;</th><th scope=col>&lt;int&gt;</th><th scope=col>&lt;int&gt;</th><th scope=col>&lt;lgl&gt;</th></tr>\n",
              "</thead>\n",
              "<tbody>\n",
              "\t<tr><td>9/8/2024 13:59:10</td><td>Nicho          </td><td>Nasi Goreng   </td><td>Es teh     </td><td>Tidak Pesan   </td><td>Delivery</td><td>Maguwo                                     </td><td>Cash           </td><td> 1</td><td> 1</td><td>NA</td><td>NA</td></tr>\n",
              "\t<tr><td>9/8/2024 14:01:53</td><td>Adelin         </td><td>Nasi Ayam     </td><td>Es teh     </td><td>Kentang goreng</td><td>Dine in </td><td>                                           </td><td>Cash           </td><td> 1</td><td> 2</td><td> 2</td><td>NA</td></tr>\n",
              "\t<tr><td>9/8/2024 14:09:53</td><td>Kusdi          </td><td>Magelangan    </td><td>Air es     </td><td>bakwan        </td><td>Delivery</td><td>Apa ni cok scam kahh                       </td><td>Transfer (QRIS)</td><td> 1</td><td> 1</td><td> 1</td><td>NA</td></tr>\n",
              "\t<tr><td>9/8/2024 14:10:01</td><td>Vito  gans     </td><td>Nasi Goreng   </td><td>Air es     </td><td>Donat         </td><td>Dine in </td><td>                                           </td><td>Transfer (QRIS)</td><td> 5</td><td> 5</td><td> 5</td><td>NA</td></tr>\n",
              "\t<tr><td>9/8/2024 14:19:36</td><td>Nara           </td><td>Mie dok-dok   </td><td>Nutrisari  </td><td>Jamur goreng  </td><td>Dine in </td><td>                                           </td><td>Cash           </td><td> 1</td><td> 1</td><td> 1</td><td>NA</td></tr>\n",
              "\t<tr><td>9/8/2024 14:20:27</td><td>Llerryy        </td><td>Nasi Orak-Arik</td><td>Es teh     </td><td>Kentang goreng</td><td>Dine in </td><td>                                           </td><td>Cash           </td><td> 5</td><td> 5</td><td> 5</td><td>NA</td></tr>\n",
              "\t<tr><td>9/8/2024 14:21:19</td><td>Abil           </td><td>Nasi Goreng   </td><td>Es teh     </td><td>Tidak Pesan   </td><td>Dine in </td><td>                                           </td><td>Cash           </td><td> 1</td><td> 1</td><td>NA</td><td>NA</td></tr>\n",
              "\t<tr><td>9/8/2024 14:30:19</td><td>Bayu           </td><td>Nasi Sayur    </td><td>Air es     </td><td>Tahu isi      </td><td>Delivery</td><td>Jalan Singosari no 7                       </td><td>Transfer (QRIS)</td><td> 1</td><td> 1</td><td> 2</td><td>NA</td></tr>\n",
              "\t<tr><td>9/8/2024 15:49:55</td><td>Nando          </td><td>Nasi Goreng   </td><td>Nutrisari  </td><td>Tidak Pesan   </td><td>Dine in </td><td>                                           </td><td>Cash           </td><td> 1</td><td> 1</td><td>NA</td><td>NA</td></tr>\n",
              "\t<tr><td>9/8/2024 19:25:38</td><td>adi            </td><td>Nasi Ayam     </td><td>Es teh     </td><td>Tempe goreng  </td><td>Dine in </td><td>                                           </td><td>Cash           </td><td> 3</td><td> 2</td><td> 2</td><td>NA</td></tr>\n",
              "\t<tr><td>9/8/2024 21:46:29</td><td>andi           </td><td>Mie goreng    </td><td>Tidak Pesan</td><td>Tidak Pesan   </td><td>Dine in </td><td>                                           </td><td>Transfer (QRIS)</td><td> 1</td><td>NA</td><td>NA</td><td>NA</td></tr>\n",
              "\t<tr><td>9/8/2024 21:47:33</td><td>Jose           </td><td>Magelangan    </td><td>Kopi       </td><td>Tidak Pesan   </td><td>Dine in </td><td>                                           </td><td>Cash           </td><td> 1</td><td> 3</td><td>NA</td><td>NA</td></tr>\n",
              "\t<tr><td>9/8/2024 21:48:40</td><td>hendra         </td><td>Nasi Ikan     </td><td>Susu       </td><td>Keripik pisang</td><td>Delivery</td><td>paingan                                    </td><td>Cash           </td><td> 1</td><td> 2</td><td> 1</td><td>NA</td></tr>\n",
              "\t<tr><td>9/8/2024 21:49:19</td><td>Tom            </td><td>Tidak Pesan   </td><td>Susu       </td><td>Keripik pisang</td><td>Dine in </td><td>                                           </td><td>Cash           </td><td>NA</td><td> 1</td><td> 3</td><td>NA</td></tr>\n",
              "\t<tr><td>9/8/2024 21:49:49</td><td>Jerry          </td><td>Nasi Orak-Arik</td><td>Tidak Pesan</td><td>Tidak Pesan   </td><td>Dine in </td><td>                                           </td><td>Cash           </td><td> 1</td><td>NA</td><td>NA</td><td>NA</td></tr>\n",
              "\t<tr><td>9/8/2024 21:50:31</td><td>casper         </td><td>Mie rebus     </td><td>Nutrisari  </td><td>Sosis goreng  </td><td>Dine in </td><td>                                           </td><td>Transfer (QRIS)</td><td> 2</td><td> 3</td><td> 2</td><td>NA</td></tr>\n",
              "\t<tr><td>9/8/2024 21:51:14</td><td>Newt           </td><td>Nasi Sayur    </td><td>Es teh     </td><td>Kentang goreng</td><td>Delivery</td><td>paingan                                    </td><td>Cash           </td><td> 1</td><td> 2</td><td> 2</td><td>NA</td></tr>\n",
              "\t<tr><td>9/8/2024 21:51:53</td><td>Yohana         </td><td>Nasi Telur    </td><td>Tidak Pesan</td><td>Tidak Pesan   </td><td>Delivery</td><td>paingan                                    </td><td>Cash           </td><td> 2</td><td>NA</td><td>NA</td><td>NA</td></tr>\n",
              "\t<tr><td>9/8/2024 21:52:35</td><td>patrik         </td><td>Mie rebus     </td><td>Tidak Pesan</td><td>Kerupuk       </td><td>Dine in </td><td>                                           </td><td>Transfer (QRIS)</td><td> 1</td><td>NA</td><td> 2</td><td>NA</td></tr>\n",
              "\t<tr><td>9/8/2024 21:53:19</td><td>Yosa           </td><td>Nasi Goreng   </td><td>Nutrisari  </td><td>Tidak Pesan   </td><td>Dine in </td><td>                                           </td><td>Cash           </td><td> 1</td><td> 1</td><td>NA</td><td>NA</td></tr>\n",
              "\t<tr><td>9/8/2024 21:56:02</td><td>charlie        </td><td>Magelangan    </td><td>Jas jus    </td><td>Tahu isi      </td><td>Dine in </td><td>                                           </td><td>Cash           </td><td> 2</td><td> 1</td><td> 1</td><td>NA</td></tr>\n",
              "\t<tr><td>9/8/2024 21:56:06</td><td>Ade            </td><td>Nasi Goreng   </td><td>Nutrisari  </td><td>Kerupuk       </td><td>Delivery</td><td>Kos Pak Supratno, Masjid babusalam         </td><td>Cash           </td><td> 1</td><td> 1</td><td> 3</td><td>NA</td></tr>\n",
              "\t<tr><td>9/8/2024 22:23:48</td><td>Reva           </td><td>Nasi Goreng   </td><td>Air es     </td><td>Tidak Pesan   </td><td>Dine in </td><td>                                           </td><td>Cash           </td><td> 2</td><td> 3</td><td>NA</td><td>NA</td></tr>\n",
              "\t<tr><td>9/8/2024 22:24:24</td><td>Arbi           </td><td>Nasi Orak-Arik</td><td>Tidak Pesan</td><td>Tidak Pesan   </td><td>Dine in </td><td>                                           </td><td>Transfer (QRIS)</td><td> 1</td><td>NA</td><td>NA</td><td>NA</td></tr>\n",
              "\t<tr><td>9/8/2024 22:25:00</td><td>Yohanes Yuan   </td><td>Mie dok-dok   </td><td>Jas jus    </td><td>Tidak Pesan   </td><td>Dine in </td><td>                                           </td><td>Cash           </td><td> 1</td><td> 1</td><td>NA</td><td>NA</td></tr>\n",
              "\t<tr><td>9/8/2024 22:25:57</td><td>Aloysius Haikal</td><td>Tidak Pesan   </td><td>Tidak Pesan</td><td>Sosis goreng  </td><td>Delivery</td><td>Jln. kironggowarsito no.16, Jampiroso Utara</td><td>Cash           </td><td>NA</td><td>NA</td><td> 3</td><td>NA</td></tr>\n",
              "\t<tr><td>9/9/2024 10:33:12</td><td>Ficili         </td><td>Nasi Goreng   </td><td>Jas jus    </td><td>Kerupuk       </td><td>Dine in </td><td>                                           </td><td>Cash           </td><td> 1</td><td> 5</td><td> 5</td><td>NA</td></tr>\n",
              "\t<tr><td>9/9/2024 10:33:53</td><td>Brian          </td><td>Nasi Ikan     </td><td>Es teh     </td><td>Jamur goreng  </td><td>Dine in </td><td>                                           </td><td>Transfer (QRIS)</td><td> 1</td><td> 2</td><td> 1</td><td>NA</td></tr>\n",
              "\t<tr><td>9/9/2024 10:34:39</td><td>Willyandri     </td><td>Mie dok-dok   </td><td>Air es     </td><td>Tidak Pesan   </td><td>Delivery</td><td>Sebelah heaven                             </td><td>Cash           </td><td> 2</td><td> 2</td><td>NA</td><td>NA</td></tr>\n",
              "\t<tr><td>9/9/2024 10:36:09</td><td>Ziregar        </td><td>Mie rebus     </td><td>Es teh     </td><td>Tidak Pesan   </td><td>Delivery</td><td>Di dekat END PORTAL                        </td><td>Cash           </td><td> 5</td><td> 5</td><td>NA</td><td>NA</td></tr>\n",
              "\t<tr><td>9/9/2024 10:36:54</td><td>johanes        </td><td>Mie rebus     </td><td>Nutrisari  </td><td>Tidak Pesan   </td><td>Dine in </td><td>                                           </td><td>Cash           </td><td> 1</td><td> 1</td><td>NA</td><td>NA</td></tr>\n",
              "\t<tr><td>9/9/2024 10:37:39</td><td>Ecentio        </td><td>Nasi Ayam     </td><td>Tidak Pesan</td><td>Tidak Pesan   </td><td>Delivery</td><td>Mars                                       </td><td>Transfer (QRIS)</td><td> 1</td><td>NA</td><td>NA</td><td>NA</td></tr>\n",
              "\t<tr><td>9/9/2024 10:37:51</td><td>Nana           </td><td>Nasi Ayam     </td><td>Es teh     </td><td>Kerupuk       </td><td>Dine in </td><td>                                           </td><td>Cash           </td><td> 2</td><td> 2</td><td> 2</td><td>NA</td></tr>\n",
              "\t<tr><td>9/9/2024 10:43:10</td><td>Joe            </td><td>Nasi Goreng   </td><td>Jas jus    </td><td>Tidak Pesan   </td><td>Dine in </td><td>                                           </td><td>Cash           </td><td> 2</td><td> 2</td><td>NA</td><td>NA</td></tr>\n",
              "</tbody>\n",
              "</table>\n"
            ],
            "text/markdown": "\nA data.frame: 34 × 12\n\n| Timestamp &lt;chr&gt; | Nama &lt;chr&gt; | Pilih.Makanan.dibawah.ini &lt;chr&gt; | Pilih.Minuman.dibawah.ini &lt;chr&gt; | Pilih.snack.dibawah.ini &lt;chr&gt; | Makan.dimana. &lt;chr&gt; | Masukan.Alamat.tujuan.anda &lt;chr&gt; | Pilih.metode.pembayaran &lt;chr&gt; | jumlah.makanan &lt;int&gt; | Jumlah.Minuman &lt;int&gt; | Jumlah.Snack &lt;int&gt; | Pesan.Berapa. &lt;lgl&gt; |\n|---|---|---|---|---|---|---|---|---|---|---|---|\n| 9/8/2024 13:59:10 | Nicho           | Nasi Goreng    | Es teh      | Tidak Pesan    | Delivery | Maguwo                                      | Cash            |  1 |  1 | NA | NA |\n| 9/8/2024 14:01:53 | Adelin          | Nasi Ayam      | Es teh      | Kentang goreng | Dine in  | <!----> | Cash            |  1 |  2 |  2 | NA |\n| 9/8/2024 14:09:53 | Kusdi           | Magelangan     | Air es      | bakwan         | Delivery | Apa ni cok scam kahh                        | Transfer (QRIS) |  1 |  1 |  1 | NA |\n| 9/8/2024 14:10:01 | Vito  gans      | Nasi Goreng    | Air es      | Donat          | Dine in  | <!----> | Transfer (QRIS) |  5 |  5 |  5 | NA |\n| 9/8/2024 14:19:36 | Nara            | Mie dok-dok    | Nutrisari   | Jamur goreng   | Dine in  | <!----> | Cash            |  1 |  1 |  1 | NA |\n| 9/8/2024 14:20:27 | Llerryy         | Nasi Orak-Arik | Es teh      | Kentang goreng | Dine in  | <!----> | Cash            |  5 |  5 |  5 | NA |\n| 9/8/2024 14:21:19 | Abil            | Nasi Goreng    | Es teh      | Tidak Pesan    | Dine in  | <!----> | Cash            |  1 |  1 | NA | NA |\n| 9/8/2024 14:30:19 | Bayu            | Nasi Sayur     | Air es      | Tahu isi       | Delivery | Jalan Singosari no 7                        | Transfer (QRIS) |  1 |  1 |  2 | NA |\n| 9/8/2024 15:49:55 | Nando           | Nasi Goreng    | Nutrisari   | Tidak Pesan    | Dine in  | <!----> | Cash            |  1 |  1 | NA | NA |\n| 9/8/2024 19:25:38 | adi             | Nasi Ayam      | Es teh      | Tempe goreng   | Dine in  | <!----> | Cash            |  3 |  2 |  2 | NA |\n| 9/8/2024 21:46:29 | andi            | Mie goreng     | Tidak Pesan | Tidak Pesan    | Dine in  | <!----> | Transfer (QRIS) |  1 | NA | NA | NA |\n| 9/8/2024 21:47:33 | Jose            | Magelangan     | Kopi        | Tidak Pesan    | Dine in  | <!----> | Cash            |  1 |  3 | NA | NA |\n| 9/8/2024 21:48:40 | hendra          | Nasi Ikan      | Susu        | Keripik pisang | Delivery | paingan                                     | Cash            |  1 |  2 |  1 | NA |\n| 9/8/2024 21:49:19 | Tom             | Tidak Pesan    | Susu        | Keripik pisang | Dine in  | <!----> | Cash            | NA |  1 |  3 | NA |\n| 9/8/2024 21:49:49 | Jerry           | Nasi Orak-Arik | Tidak Pesan | Tidak Pesan    | Dine in  | <!----> | Cash            |  1 | NA | NA | NA |\n| 9/8/2024 21:50:31 | casper          | Mie rebus      | Nutrisari   | Sosis goreng   | Dine in  | <!----> | Transfer (QRIS) |  2 |  3 |  2 | NA |\n| 9/8/2024 21:51:14 | Newt            | Nasi Sayur     | Es teh      | Kentang goreng | Delivery | paingan                                     | Cash            |  1 |  2 |  2 | NA |\n| 9/8/2024 21:51:53 | Yohana          | Nasi Telur     | Tidak Pesan | Tidak Pesan    | Delivery | paingan                                     | Cash            |  2 | NA | NA | NA |\n| 9/8/2024 21:52:35 | patrik          | Mie rebus      | Tidak Pesan | Kerupuk        | Dine in  | <!----> | Transfer (QRIS) |  1 | NA |  2 | NA |\n| 9/8/2024 21:53:19 | Yosa            | Nasi Goreng    | Nutrisari   | Tidak Pesan    | Dine in  | <!----> | Cash            |  1 |  1 | NA | NA |\n| 9/8/2024 21:56:02 | charlie         | Magelangan     | Jas jus     | Tahu isi       | Dine in  | <!----> | Cash            |  2 |  1 |  1 | NA |\n| 9/8/2024 21:56:06 | Ade             | Nasi Goreng    | Nutrisari   | Kerupuk        | Delivery | Kos Pak Supratno, Masjid babusalam          | Cash            |  1 |  1 |  3 | NA |\n| 9/8/2024 22:23:48 | Reva            | Nasi Goreng    | Air es      | Tidak Pesan    | Dine in  | <!----> | Cash            |  2 |  3 | NA | NA |\n| 9/8/2024 22:24:24 | Arbi            | Nasi Orak-Arik | Tidak Pesan | Tidak Pesan    | Dine in  | <!----> | Transfer (QRIS) |  1 | NA | NA | NA |\n| 9/8/2024 22:25:00 | Yohanes Yuan    | Mie dok-dok    | Jas jus     | Tidak Pesan    | Dine in  | <!----> | Cash            |  1 |  1 | NA | NA |\n| 9/8/2024 22:25:57 | Aloysius Haikal | Tidak Pesan    | Tidak Pesan | Sosis goreng   | Delivery | Jln. kironggowarsito no.16, Jampiroso Utara | Cash            | NA | NA |  3 | NA |\n| 9/9/2024 10:33:12 | Ficili          | Nasi Goreng    | Jas jus     | Kerupuk        | Dine in  | <!----> | Cash            |  1 |  5 |  5 | NA |\n| 9/9/2024 10:33:53 | Brian           | Nasi Ikan      | Es teh      | Jamur goreng   | Dine in  | <!----> | Transfer (QRIS) |  1 |  2 |  1 | NA |\n| 9/9/2024 10:34:39 | Willyandri      | Mie dok-dok    | Air es      | Tidak Pesan    | Delivery | Sebelah heaven                              | Cash            |  2 |  2 | NA | NA |\n| 9/9/2024 10:36:09 | Ziregar         | Mie rebus      | Es teh      | Tidak Pesan    | Delivery | Di dekat END PORTAL                         | Cash            |  5 |  5 | NA | NA |\n| 9/9/2024 10:36:54 | johanes         | Mie rebus      | Nutrisari   | Tidak Pesan    | Dine in  | <!----> | Cash            |  1 |  1 | NA | NA |\n| 9/9/2024 10:37:39 | Ecentio         | Nasi Ayam      | Tidak Pesan | Tidak Pesan    | Delivery | Mars                                        | Transfer (QRIS) |  1 | NA | NA | NA |\n| 9/9/2024 10:37:51 | Nana            | Nasi Ayam      | Es teh      | Kerupuk        | Dine in  | <!----> | Cash            |  2 |  2 |  2 | NA |\n| 9/9/2024 10:43:10 | Joe             | Nasi Goreng    | Jas jus     | Tidak Pesan    | Dine in  | <!----> | Cash            |  2 |  2 | NA | NA |\n\n",
            "text/latex": "A data.frame: 34 × 12\n\\begin{tabular}{llllllllllll}\n Timestamp & Nama & Pilih.Makanan.dibawah.ini & Pilih.Minuman.dibawah.ini & Pilih.snack.dibawah.ini & Makan.dimana. & Masukan.Alamat.tujuan.anda & Pilih.metode.pembayaran & jumlah.makanan & Jumlah.Minuman & Jumlah.Snack & Pesan.Berapa.\\\\\n <chr> & <chr> & <chr> & <chr> & <chr> & <chr> & <chr> & <chr> & <int> & <int> & <int> & <lgl>\\\\\n\\hline\n\t 9/8/2024 13:59:10 & Nicho           & Nasi Goreng    & Es teh      & Tidak Pesan    & Delivery & Maguwo                                      & Cash            &  1 &  1 & NA & NA\\\\\n\t 9/8/2024 14:01:53 & Adelin          & Nasi Ayam      & Es teh      & Kentang goreng & Dine in  &                                             & Cash            &  1 &  2 &  2 & NA\\\\\n\t 9/8/2024 14:09:53 & Kusdi           & Magelangan     & Air es      & bakwan         & Delivery & Apa ni cok scam kahh                        & Transfer (QRIS) &  1 &  1 &  1 & NA\\\\\n\t 9/8/2024 14:10:01 & Vito  gans      & Nasi Goreng    & Air es      & Donat          & Dine in  &                                             & Transfer (QRIS) &  5 &  5 &  5 & NA\\\\\n\t 9/8/2024 14:19:36 & Nara            & Mie dok-dok    & Nutrisari   & Jamur goreng   & Dine in  &                                             & Cash            &  1 &  1 &  1 & NA\\\\\n\t 9/8/2024 14:20:27 & Llerryy         & Nasi Orak-Arik & Es teh      & Kentang goreng & Dine in  &                                             & Cash            &  5 &  5 &  5 & NA\\\\\n\t 9/8/2024 14:21:19 & Abil            & Nasi Goreng    & Es teh      & Tidak Pesan    & Dine in  &                                             & Cash            &  1 &  1 & NA & NA\\\\\n\t 9/8/2024 14:30:19 & Bayu            & Nasi Sayur     & Air es      & Tahu isi       & Delivery & Jalan Singosari no 7                        & Transfer (QRIS) &  1 &  1 &  2 & NA\\\\\n\t 9/8/2024 15:49:55 & Nando           & Nasi Goreng    & Nutrisari   & Tidak Pesan    & Dine in  &                                             & Cash            &  1 &  1 & NA & NA\\\\\n\t 9/8/2024 19:25:38 & adi             & Nasi Ayam      & Es teh      & Tempe goreng   & Dine in  &                                             & Cash            &  3 &  2 &  2 & NA\\\\\n\t 9/8/2024 21:46:29 & andi            & Mie goreng     & Tidak Pesan & Tidak Pesan    & Dine in  &                                             & Transfer (QRIS) &  1 & NA & NA & NA\\\\\n\t 9/8/2024 21:47:33 & Jose            & Magelangan     & Kopi        & Tidak Pesan    & Dine in  &                                             & Cash            &  1 &  3 & NA & NA\\\\\n\t 9/8/2024 21:48:40 & hendra          & Nasi Ikan      & Susu        & Keripik pisang & Delivery & paingan                                     & Cash            &  1 &  2 &  1 & NA\\\\\n\t 9/8/2024 21:49:19 & Tom             & Tidak Pesan    & Susu        & Keripik pisang & Dine in  &                                             & Cash            & NA &  1 &  3 & NA\\\\\n\t 9/8/2024 21:49:49 & Jerry           & Nasi Orak-Arik & Tidak Pesan & Tidak Pesan    & Dine in  &                                             & Cash            &  1 & NA & NA & NA\\\\\n\t 9/8/2024 21:50:31 & casper          & Mie rebus      & Nutrisari   & Sosis goreng   & Dine in  &                                             & Transfer (QRIS) &  2 &  3 &  2 & NA\\\\\n\t 9/8/2024 21:51:14 & Newt            & Nasi Sayur     & Es teh      & Kentang goreng & Delivery & paingan                                     & Cash            &  1 &  2 &  2 & NA\\\\\n\t 9/8/2024 21:51:53 & Yohana          & Nasi Telur     & Tidak Pesan & Tidak Pesan    & Delivery & paingan                                     & Cash            &  2 & NA & NA & NA\\\\\n\t 9/8/2024 21:52:35 & patrik          & Mie rebus      & Tidak Pesan & Kerupuk        & Dine in  &                                             & Transfer (QRIS) &  1 & NA &  2 & NA\\\\\n\t 9/8/2024 21:53:19 & Yosa            & Nasi Goreng    & Nutrisari   & Tidak Pesan    & Dine in  &                                             & Cash            &  1 &  1 & NA & NA\\\\\n\t 9/8/2024 21:56:02 & charlie         & Magelangan     & Jas jus     & Tahu isi       & Dine in  &                                             & Cash            &  2 &  1 &  1 & NA\\\\\n\t 9/8/2024 21:56:06 & Ade             & Nasi Goreng    & Nutrisari   & Kerupuk        & Delivery & Kos Pak Supratno, Masjid babusalam          & Cash            &  1 &  1 &  3 & NA\\\\\n\t 9/8/2024 22:23:48 & Reva            & Nasi Goreng    & Air es      & Tidak Pesan    & Dine in  &                                             & Cash            &  2 &  3 & NA & NA\\\\\n\t 9/8/2024 22:24:24 & Arbi            & Nasi Orak-Arik & Tidak Pesan & Tidak Pesan    & Dine in  &                                             & Transfer (QRIS) &  1 & NA & NA & NA\\\\\n\t 9/8/2024 22:25:00 & Yohanes Yuan    & Mie dok-dok    & Jas jus     & Tidak Pesan    & Dine in  &                                             & Cash            &  1 &  1 & NA & NA\\\\\n\t 9/8/2024 22:25:57 & Aloysius Haikal & Tidak Pesan    & Tidak Pesan & Sosis goreng   & Delivery & Jln. kironggowarsito no.16, Jampiroso Utara & Cash            & NA & NA &  3 & NA\\\\\n\t 9/9/2024 10:33:12 & Ficili          & Nasi Goreng    & Jas jus     & Kerupuk        & Dine in  &                                             & Cash            &  1 &  5 &  5 & NA\\\\\n\t 9/9/2024 10:33:53 & Brian           & Nasi Ikan      & Es teh      & Jamur goreng   & Dine in  &                                             & Transfer (QRIS) &  1 &  2 &  1 & NA\\\\\n\t 9/9/2024 10:34:39 & Willyandri      & Mie dok-dok    & Air es      & Tidak Pesan    & Delivery & Sebelah heaven                              & Cash            &  2 &  2 & NA & NA\\\\\n\t 9/9/2024 10:36:09 & Ziregar         & Mie rebus      & Es teh      & Tidak Pesan    & Delivery & Di dekat END PORTAL                         & Cash            &  5 &  5 & NA & NA\\\\\n\t 9/9/2024 10:36:54 & johanes         & Mie rebus      & Nutrisari   & Tidak Pesan    & Dine in  &                                             & Cash            &  1 &  1 & NA & NA\\\\\n\t 9/9/2024 10:37:39 & Ecentio         & Nasi Ayam      & Tidak Pesan & Tidak Pesan    & Delivery & Mars                                        & Transfer (QRIS) &  1 & NA & NA & NA\\\\\n\t 9/9/2024 10:37:51 & Nana            & Nasi Ayam      & Es teh      & Kerupuk        & Dine in  &                                             & Cash            &  2 &  2 &  2 & NA\\\\\n\t 9/9/2024 10:43:10 & Joe             & Nasi Goreng    & Jas jus     & Tidak Pesan    & Dine in  &                                             & Cash            &  2 &  2 & NA & NA\\\\\n\\end{tabular}\n",
            "text/plain": [
              "   Timestamp         Nama            Pilih.Makanan.dibawah.ini\n",
              "1  9/8/2024 13:59:10 Nicho           Nasi Goreng              \n",
              "2  9/8/2024 14:01:53 Adelin          Nasi Ayam                \n",
              "3  9/8/2024 14:09:53 Kusdi           Magelangan               \n",
              "4  9/8/2024 14:10:01 Vito  gans      Nasi Goreng              \n",
              "5  9/8/2024 14:19:36 Nara            Mie dok-dok              \n",
              "6  9/8/2024 14:20:27 Llerryy         Nasi Orak-Arik           \n",
              "7  9/8/2024 14:21:19 Abil            Nasi Goreng              \n",
              "8  9/8/2024 14:30:19 Bayu            Nasi Sayur               \n",
              "9  9/8/2024 15:49:55 Nando           Nasi Goreng              \n",
              "10 9/8/2024 19:25:38 adi             Nasi Ayam                \n",
              "11 9/8/2024 21:46:29 andi            Mie goreng               \n",
              "12 9/8/2024 21:47:33 Jose            Magelangan               \n",
              "13 9/8/2024 21:48:40 hendra          Nasi Ikan                \n",
              "14 9/8/2024 21:49:19 Tom             Tidak Pesan              \n",
              "15 9/8/2024 21:49:49 Jerry           Nasi Orak-Arik           \n",
              "16 9/8/2024 21:50:31 casper          Mie rebus                \n",
              "17 9/8/2024 21:51:14 Newt            Nasi Sayur               \n",
              "18 9/8/2024 21:51:53 Yohana          Nasi Telur               \n",
              "19 9/8/2024 21:52:35 patrik          Mie rebus                \n",
              "20 9/8/2024 21:53:19 Yosa            Nasi Goreng              \n",
              "21 9/8/2024 21:56:02 charlie         Magelangan               \n",
              "22 9/8/2024 21:56:06 Ade             Nasi Goreng              \n",
              "23 9/8/2024 22:23:48 Reva            Nasi Goreng              \n",
              "24 9/8/2024 22:24:24 Arbi            Nasi Orak-Arik           \n",
              "25 9/8/2024 22:25:00 Yohanes Yuan    Mie dok-dok              \n",
              "26 9/8/2024 22:25:57 Aloysius Haikal Tidak Pesan              \n",
              "27 9/9/2024 10:33:12 Ficili          Nasi Goreng              \n",
              "28 9/9/2024 10:33:53 Brian           Nasi Ikan                \n",
              "29 9/9/2024 10:34:39 Willyandri      Mie dok-dok              \n",
              "30 9/9/2024 10:36:09 Ziregar         Mie rebus                \n",
              "31 9/9/2024 10:36:54 johanes         Mie rebus                \n",
              "32 9/9/2024 10:37:39 Ecentio         Nasi Ayam                \n",
              "33 9/9/2024 10:37:51 Nana            Nasi Ayam                \n",
              "34 9/9/2024 10:43:10 Joe             Nasi Goreng              \n",
              "   Pilih.Minuman.dibawah.ini Pilih.snack.dibawah.ini Makan.dimana.\n",
              "1  Es teh                    Tidak Pesan             Delivery     \n",
              "2  Es teh                    Kentang goreng          Dine in      \n",
              "3  Air es                    bakwan                  Delivery     \n",
              "4  Air es                    Donat                   Dine in      \n",
              "5  Nutrisari                 Jamur goreng            Dine in      \n",
              "6  Es teh                    Kentang goreng          Dine in      \n",
              "7  Es teh                    Tidak Pesan             Dine in      \n",
              "8  Air es                    Tahu isi                Delivery     \n",
              "9  Nutrisari                 Tidak Pesan             Dine in      \n",
              "10 Es teh                    Tempe goreng            Dine in      \n",
              "11 Tidak Pesan               Tidak Pesan             Dine in      \n",
              "12 Kopi                      Tidak Pesan             Dine in      \n",
              "13 Susu                      Keripik pisang          Delivery     \n",
              "14 Susu                      Keripik pisang          Dine in      \n",
              "15 Tidak Pesan               Tidak Pesan             Dine in      \n",
              "16 Nutrisari                 Sosis goreng            Dine in      \n",
              "17 Es teh                    Kentang goreng          Delivery     \n",
              "18 Tidak Pesan               Tidak Pesan             Delivery     \n",
              "19 Tidak Pesan               Kerupuk                 Dine in      \n",
              "20 Nutrisari                 Tidak Pesan             Dine in      \n",
              "21 Jas jus                   Tahu isi                Dine in      \n",
              "22 Nutrisari                 Kerupuk                 Delivery     \n",
              "23 Air es                    Tidak Pesan             Dine in      \n",
              "24 Tidak Pesan               Tidak Pesan             Dine in      \n",
              "25 Jas jus                   Tidak Pesan             Dine in      \n",
              "26 Tidak Pesan               Sosis goreng            Delivery     \n",
              "27 Jas jus                   Kerupuk                 Dine in      \n",
              "28 Es teh                    Jamur goreng            Dine in      \n",
              "29 Air es                    Tidak Pesan             Delivery     \n",
              "30 Es teh                    Tidak Pesan             Delivery     \n",
              "31 Nutrisari                 Tidak Pesan             Dine in      \n",
              "32 Tidak Pesan               Tidak Pesan             Delivery     \n",
              "33 Es teh                    Kerupuk                 Dine in      \n",
              "34 Jas jus                   Tidak Pesan             Dine in      \n",
              "   Masukan.Alamat.tujuan.anda                  Pilih.metode.pembayaran\n",
              "1  Maguwo                                      Cash                   \n",
              "2                                              Cash                   \n",
              "3  Apa ni cok scam kahh                        Transfer (QRIS)        \n",
              "4                                              Transfer (QRIS)        \n",
              "5                                              Cash                   \n",
              "6                                              Cash                   \n",
              "7                                              Cash                   \n",
              "8  Jalan Singosari no 7                        Transfer (QRIS)        \n",
              "9                                              Cash                   \n",
              "10                                             Cash                   \n",
              "11                                             Transfer (QRIS)        \n",
              "12                                             Cash                   \n",
              "13 paingan                                     Cash                   \n",
              "14                                             Cash                   \n",
              "15                                             Cash                   \n",
              "16                                             Transfer (QRIS)        \n",
              "17 paingan                                     Cash                   \n",
              "18 paingan                                     Cash                   \n",
              "19                                             Transfer (QRIS)        \n",
              "20                                             Cash                   \n",
              "21                                             Cash                   \n",
              "22 Kos Pak Supratno, Masjid babusalam          Cash                   \n",
              "23                                             Cash                   \n",
              "24                                             Transfer (QRIS)        \n",
              "25                                             Cash                   \n",
              "26 Jln. kironggowarsito no.16, Jampiroso Utara Cash                   \n",
              "27                                             Cash                   \n",
              "28                                             Transfer (QRIS)        \n",
              "29 Sebelah heaven                              Cash                   \n",
              "30 Di dekat END PORTAL                         Cash                   \n",
              "31                                             Cash                   \n",
              "32 Mars                                        Transfer (QRIS)        \n",
              "33                                             Cash                   \n",
              "34                                             Cash                   \n",
              "   jumlah.makanan Jumlah.Minuman Jumlah.Snack Pesan.Berapa.\n",
              "1   1              1             NA           NA           \n",
              "2   1              2              2           NA           \n",
              "3   1              1              1           NA           \n",
              "4   5              5              5           NA           \n",
              "5   1              1              1           NA           \n",
              "6   5              5              5           NA           \n",
              "7   1              1             NA           NA           \n",
              "8   1              1              2           NA           \n",
              "9   1              1             NA           NA           \n",
              "10  3              2              2           NA           \n",
              "11  1             NA             NA           NA           \n",
              "12  1              3             NA           NA           \n",
              "13  1              2              1           NA           \n",
              "14 NA              1              3           NA           \n",
              "15  1             NA             NA           NA           \n",
              "16  2              3              2           NA           \n",
              "17  1              2              2           NA           \n",
              "18  2             NA             NA           NA           \n",
              "19  1             NA              2           NA           \n",
              "20  1              1             NA           NA           \n",
              "21  2              1              1           NA           \n",
              "22  1              1              3           NA           \n",
              "23  2              3             NA           NA           \n",
              "24  1             NA             NA           NA           \n",
              "25  1              1             NA           NA           \n",
              "26 NA             NA              3           NA           \n",
              "27  1              5              5           NA           \n",
              "28  1              2              1           NA           \n",
              "29  2              2             NA           NA           \n",
              "30  5              5             NA           NA           \n",
              "31  1              1             NA           NA           \n",
              "32  1             NA             NA           NA           \n",
              "33  2              2              2           NA           \n",
              "34  2              2             NA           NA           "
            ]
          },
          "metadata": {}
        }
      ]
    },
    {
      "cell_type": "code",
      "execution_count": null,
      "metadata": {
        "id": "wdolIplNOrvm",
        "colab": {
          "base_uri": "https://localhost:8080/",
          "height": 52
        },
        "outputId": "ed954cee-6c8c-4fe5-ff27-07d52f8e2b9a"
      },
      "outputs": [
        {
          "output_type": "display_data",
          "data": {
            "text/html": [
              "<style>\n",
              ".list-inline {list-style: none; margin:0; padding: 0}\n",
              ".list-inline>li {display: inline-block}\n",
              ".list-inline>li:not(:last-child)::after {content: \"\\00b7\"; padding: 0 .5ex}\n",
              "</style>\n",
              "<ol class=list-inline><li>'Timestamp'</li><li>'Nama'</li><li>'Pilih.Makanan.dibawah.ini'</li><li>'Pilih.Minuman.dibawah.ini'</li><li>'Pilih.snack.dibawah.ini'</li><li>'Makan.dimana.'</li><li>'Masukan.Alamat.tujuan.anda'</li><li>'Pilih.metode.pembayaran'</li><li>'jumlah.makanan'</li><li>'Jumlah.Minuman'</li><li>'Jumlah.Snack'</li><li>'Pesan.Berapa.'</li></ol>\n"
            ],
            "text/markdown": "1. 'Timestamp'\n2. 'Nama'\n3. 'Pilih.Makanan.dibawah.ini'\n4. 'Pilih.Minuman.dibawah.ini'\n5. 'Pilih.snack.dibawah.ini'\n6. 'Makan.dimana.'\n7. 'Masukan.Alamat.tujuan.anda'\n8. 'Pilih.metode.pembayaran'\n9. 'jumlah.makanan'\n10. 'Jumlah.Minuman'\n11. 'Jumlah.Snack'\n12. 'Pesan.Berapa.'\n\n\n",
            "text/latex": "\\begin{enumerate*}\n\\item 'Timestamp'\n\\item 'Nama'\n\\item 'Pilih.Makanan.dibawah.ini'\n\\item 'Pilih.Minuman.dibawah.ini'\n\\item 'Pilih.snack.dibawah.ini'\n\\item 'Makan.dimana.'\n\\item 'Masukan.Alamat.tujuan.anda'\n\\item 'Pilih.metode.pembayaran'\n\\item 'jumlah.makanan'\n\\item 'Jumlah.Minuman'\n\\item 'Jumlah.Snack'\n\\item 'Pesan.Berapa.'\n\\end{enumerate*}\n",
            "text/plain": [
              " [1] \"Timestamp\"                  \"Nama\"                      \n",
              " [3] \"Pilih.Makanan.dibawah.ini\"  \"Pilih.Minuman.dibawah.ini\" \n",
              " [5] \"Pilih.snack.dibawah.ini\"    \"Makan.dimana.\"             \n",
              " [7] \"Masukan.Alamat.tujuan.anda\" \"Pilih.metode.pembayaran\"   \n",
              " [9] \"jumlah.makanan\"             \"Jumlah.Minuman\"            \n",
              "[11] \"Jumlah.Snack\"               \"Pesan.Berapa.\"             "
            ]
          },
          "metadata": {}
        }
      ],
      "source": [
        "data_warmindo <- data_warmindo[!(rowSums(is.na(data_warmindo) | data_warmindo == \"\") == ncol(data_warmindo)), ]\n",
        "colnames(data_warmindo)\n",
        "data_warmindo$jumlah.makanan[is.na(data_warmindo$jumlah.makanan)] <- 0\n",
        "data_warmindo$Jumlah.Minuman[is.na(data_warmindo$Jumlah.Minuman)] <- 0\n",
        "data_warmindo$Jumlah.Snack[is.na(data_warmindo$Jumlah.Snack)] <- 0\n",
        "data_warmindo = subset(data_warmindo, select = -c(Pesan.Berapa., Makan.dimana., Masukan.Alamat.tujuan.anda, Nama) )"
      ]
    },
    {
      "cell_type": "code",
      "source": [
        "data_warmindo"
      ],
      "metadata": {
        "id": "IbYQpDXUO9xV",
        "colab": {
          "base_uri": "https://localhost:8080/",
          "height": 1000
        },
        "outputId": "628d132f-9218-486e-9619-63015b57315d"
      },
      "execution_count": null,
      "outputs": [
        {
          "output_type": "display_data",
          "data": {
            "text/html": [
              "<table class=\"dataframe\">\n",
              "<caption>A data.frame: 34 × 8</caption>\n",
              "<thead>\n",
              "\t<tr><th></th><th scope=col>Timestamp</th><th scope=col>Pilih.Makanan.dibawah.ini</th><th scope=col>Pilih.Minuman.dibawah.ini</th><th scope=col>Pilih.snack.dibawah.ini</th><th scope=col>Pilih.metode.pembayaran</th><th scope=col>jumlah.makanan</th><th scope=col>Jumlah.Minuman</th><th scope=col>Jumlah.Snack</th></tr>\n",
              "\t<tr><th></th><th scope=col>&lt;chr&gt;</th><th scope=col>&lt;chr&gt;</th><th scope=col>&lt;chr&gt;</th><th scope=col>&lt;chr&gt;</th><th scope=col>&lt;chr&gt;</th><th scope=col>&lt;dbl&gt;</th><th scope=col>&lt;dbl&gt;</th><th scope=col>&lt;dbl&gt;</th></tr>\n",
              "</thead>\n",
              "<tbody>\n",
              "\t<tr><th scope=row>1</th><td>9/8/2024 13:59:10</td><td>Nasi Goreng   </td><td>Es teh     </td><td>Tidak Pesan   </td><td>Cash           </td><td>1</td><td>1</td><td>0</td></tr>\n",
              "\t<tr><th scope=row>2</th><td>9/8/2024 14:01:53</td><td>Nasi Ayam     </td><td>Es teh     </td><td>Kentang goreng</td><td>Cash           </td><td>1</td><td>2</td><td>2</td></tr>\n",
              "\t<tr><th scope=row>3</th><td>9/8/2024 14:09:53</td><td>Magelangan    </td><td>Air es     </td><td>bakwan        </td><td>Transfer (QRIS)</td><td>1</td><td>1</td><td>1</td></tr>\n",
              "\t<tr><th scope=row>4</th><td>9/8/2024 14:10:01</td><td>Nasi Goreng   </td><td>Air es     </td><td>Donat         </td><td>Transfer (QRIS)</td><td>5</td><td>5</td><td>5</td></tr>\n",
              "\t<tr><th scope=row>5</th><td>9/8/2024 14:19:36</td><td>Mie dok-dok   </td><td>Nutrisari  </td><td>Jamur goreng  </td><td>Cash           </td><td>1</td><td>1</td><td>1</td></tr>\n",
              "\t<tr><th scope=row>6</th><td>9/8/2024 14:20:27</td><td>Nasi Orak-Arik</td><td>Es teh     </td><td>Kentang goreng</td><td>Cash           </td><td>5</td><td>5</td><td>5</td></tr>\n",
              "\t<tr><th scope=row>7</th><td>9/8/2024 14:21:19</td><td>Nasi Goreng   </td><td>Es teh     </td><td>Tidak Pesan   </td><td>Cash           </td><td>1</td><td>1</td><td>0</td></tr>\n",
              "\t<tr><th scope=row>8</th><td>9/8/2024 14:30:19</td><td>Nasi Sayur    </td><td>Air es     </td><td>Tahu isi      </td><td>Transfer (QRIS)</td><td>1</td><td>1</td><td>2</td></tr>\n",
              "\t<tr><th scope=row>9</th><td>9/8/2024 15:49:55</td><td>Nasi Goreng   </td><td>Nutrisari  </td><td>Tidak Pesan   </td><td>Cash           </td><td>1</td><td>1</td><td>0</td></tr>\n",
              "\t<tr><th scope=row>10</th><td>9/8/2024 19:25:38</td><td>Nasi Ayam     </td><td>Es teh     </td><td>Tempe goreng  </td><td>Cash           </td><td>3</td><td>2</td><td>2</td></tr>\n",
              "\t<tr><th scope=row>11</th><td>9/8/2024 21:46:29</td><td>Mie goreng    </td><td>Tidak Pesan</td><td>Tidak Pesan   </td><td>Transfer (QRIS)</td><td>1</td><td>0</td><td>0</td></tr>\n",
              "\t<tr><th scope=row>12</th><td>9/8/2024 21:47:33</td><td>Magelangan    </td><td>Kopi       </td><td>Tidak Pesan   </td><td>Cash           </td><td>1</td><td>3</td><td>0</td></tr>\n",
              "\t<tr><th scope=row>13</th><td>9/8/2024 21:48:40</td><td>Nasi Ikan     </td><td>Susu       </td><td>Keripik pisang</td><td>Cash           </td><td>1</td><td>2</td><td>1</td></tr>\n",
              "\t<tr><th scope=row>14</th><td>9/8/2024 21:49:19</td><td>Tidak Pesan   </td><td>Susu       </td><td>Keripik pisang</td><td>Cash           </td><td>0</td><td>1</td><td>3</td></tr>\n",
              "\t<tr><th scope=row>15</th><td>9/8/2024 21:49:49</td><td>Nasi Orak-Arik</td><td>Tidak Pesan</td><td>Tidak Pesan   </td><td>Cash           </td><td>1</td><td>0</td><td>0</td></tr>\n",
              "\t<tr><th scope=row>16</th><td>9/8/2024 21:50:31</td><td>Mie rebus     </td><td>Nutrisari  </td><td>Sosis goreng  </td><td>Transfer (QRIS)</td><td>2</td><td>3</td><td>2</td></tr>\n",
              "\t<tr><th scope=row>17</th><td>9/8/2024 21:51:14</td><td>Nasi Sayur    </td><td>Es teh     </td><td>Kentang goreng</td><td>Cash           </td><td>1</td><td>2</td><td>2</td></tr>\n",
              "\t<tr><th scope=row>18</th><td>9/8/2024 21:51:53</td><td>Nasi Telur    </td><td>Tidak Pesan</td><td>Tidak Pesan   </td><td>Cash           </td><td>2</td><td>0</td><td>0</td></tr>\n",
              "\t<tr><th scope=row>19</th><td>9/8/2024 21:52:35</td><td>Mie rebus     </td><td>Tidak Pesan</td><td>Kerupuk       </td><td>Transfer (QRIS)</td><td>1</td><td>0</td><td>2</td></tr>\n",
              "\t<tr><th scope=row>20</th><td>9/8/2024 21:53:19</td><td>Nasi Goreng   </td><td>Nutrisari  </td><td>Tidak Pesan   </td><td>Cash           </td><td>1</td><td>1</td><td>0</td></tr>\n",
              "\t<tr><th scope=row>21</th><td>9/8/2024 21:56:02</td><td>Magelangan    </td><td>Jas jus    </td><td>Tahu isi      </td><td>Cash           </td><td>2</td><td>1</td><td>1</td></tr>\n",
              "\t<tr><th scope=row>22</th><td>9/8/2024 21:56:06</td><td>Nasi Goreng   </td><td>Nutrisari  </td><td>Kerupuk       </td><td>Cash           </td><td>1</td><td>1</td><td>3</td></tr>\n",
              "\t<tr><th scope=row>23</th><td>9/8/2024 22:23:48</td><td>Nasi Goreng   </td><td>Air es     </td><td>Tidak Pesan   </td><td>Cash           </td><td>2</td><td>3</td><td>0</td></tr>\n",
              "\t<tr><th scope=row>24</th><td>9/8/2024 22:24:24</td><td>Nasi Orak-Arik</td><td>Tidak Pesan</td><td>Tidak Pesan   </td><td>Transfer (QRIS)</td><td>1</td><td>0</td><td>0</td></tr>\n",
              "\t<tr><th scope=row>25</th><td>9/8/2024 22:25:00</td><td>Mie dok-dok   </td><td>Jas jus    </td><td>Tidak Pesan   </td><td>Cash           </td><td>1</td><td>1</td><td>0</td></tr>\n",
              "\t<tr><th scope=row>26</th><td>9/8/2024 22:25:57</td><td>Tidak Pesan   </td><td>Tidak Pesan</td><td>Sosis goreng  </td><td>Cash           </td><td>0</td><td>0</td><td>3</td></tr>\n",
              "\t<tr><th scope=row>27</th><td>9/9/2024 10:33:12</td><td>Nasi Goreng   </td><td>Jas jus    </td><td>Kerupuk       </td><td>Cash           </td><td>1</td><td>5</td><td>5</td></tr>\n",
              "\t<tr><th scope=row>28</th><td>9/9/2024 10:33:53</td><td>Nasi Ikan     </td><td>Es teh     </td><td>Jamur goreng  </td><td>Transfer (QRIS)</td><td>1</td><td>2</td><td>1</td></tr>\n",
              "\t<tr><th scope=row>29</th><td>9/9/2024 10:34:39</td><td>Mie dok-dok   </td><td>Air es     </td><td>Tidak Pesan   </td><td>Cash           </td><td>2</td><td>2</td><td>0</td></tr>\n",
              "\t<tr><th scope=row>30</th><td>9/9/2024 10:36:09</td><td>Mie rebus     </td><td>Es teh     </td><td>Tidak Pesan   </td><td>Cash           </td><td>5</td><td>5</td><td>0</td></tr>\n",
              "\t<tr><th scope=row>31</th><td>9/9/2024 10:36:54</td><td>Mie rebus     </td><td>Nutrisari  </td><td>Tidak Pesan   </td><td>Cash           </td><td>1</td><td>1</td><td>0</td></tr>\n",
              "\t<tr><th scope=row>32</th><td>9/9/2024 10:37:39</td><td>Nasi Ayam     </td><td>Tidak Pesan</td><td>Tidak Pesan   </td><td>Transfer (QRIS)</td><td>1</td><td>0</td><td>0</td></tr>\n",
              "\t<tr><th scope=row>33</th><td>9/9/2024 10:37:51</td><td>Nasi Ayam     </td><td>Es teh     </td><td>Kerupuk       </td><td>Cash           </td><td>2</td><td>2</td><td>2</td></tr>\n",
              "\t<tr><th scope=row>34</th><td>9/9/2024 10:43:10</td><td>Nasi Goreng   </td><td>Jas jus    </td><td>Tidak Pesan   </td><td>Cash           </td><td>2</td><td>2</td><td>0</td></tr>\n",
              "</tbody>\n",
              "</table>\n"
            ],
            "text/markdown": "\nA data.frame: 34 × 8\n\n| <!--/--> | Timestamp &lt;chr&gt; | Pilih.Makanan.dibawah.ini &lt;chr&gt; | Pilih.Minuman.dibawah.ini &lt;chr&gt; | Pilih.snack.dibawah.ini &lt;chr&gt; | Pilih.metode.pembayaran &lt;chr&gt; | jumlah.makanan &lt;dbl&gt; | Jumlah.Minuman &lt;dbl&gt; | Jumlah.Snack &lt;dbl&gt; |\n|---|---|---|---|---|---|---|---|---|\n| 1 | 9/8/2024 13:59:10 | Nasi Goreng    | Es teh      | Tidak Pesan    | Cash            | 1 | 1 | 0 |\n| 2 | 9/8/2024 14:01:53 | Nasi Ayam      | Es teh      | Kentang goreng | Cash            | 1 | 2 | 2 |\n| 3 | 9/8/2024 14:09:53 | Magelangan     | Air es      | bakwan         | Transfer (QRIS) | 1 | 1 | 1 |\n| 4 | 9/8/2024 14:10:01 | Nasi Goreng    | Air es      | Donat          | Transfer (QRIS) | 5 | 5 | 5 |\n| 5 | 9/8/2024 14:19:36 | Mie dok-dok    | Nutrisari   | Jamur goreng   | Cash            | 1 | 1 | 1 |\n| 6 | 9/8/2024 14:20:27 | Nasi Orak-Arik | Es teh      | Kentang goreng | Cash            | 5 | 5 | 5 |\n| 7 | 9/8/2024 14:21:19 | Nasi Goreng    | Es teh      | Tidak Pesan    | Cash            | 1 | 1 | 0 |\n| 8 | 9/8/2024 14:30:19 | Nasi Sayur     | Air es      | Tahu isi       | Transfer (QRIS) | 1 | 1 | 2 |\n| 9 | 9/8/2024 15:49:55 | Nasi Goreng    | Nutrisari   | Tidak Pesan    | Cash            | 1 | 1 | 0 |\n| 10 | 9/8/2024 19:25:38 | Nasi Ayam      | Es teh      | Tempe goreng   | Cash            | 3 | 2 | 2 |\n| 11 | 9/8/2024 21:46:29 | Mie goreng     | Tidak Pesan | Tidak Pesan    | Transfer (QRIS) | 1 | 0 | 0 |\n| 12 | 9/8/2024 21:47:33 | Magelangan     | Kopi        | Tidak Pesan    | Cash            | 1 | 3 | 0 |\n| 13 | 9/8/2024 21:48:40 | Nasi Ikan      | Susu        | Keripik pisang | Cash            | 1 | 2 | 1 |\n| 14 | 9/8/2024 21:49:19 | Tidak Pesan    | Susu        | Keripik pisang | Cash            | 0 | 1 | 3 |\n| 15 | 9/8/2024 21:49:49 | Nasi Orak-Arik | Tidak Pesan | Tidak Pesan    | Cash            | 1 | 0 | 0 |\n| 16 | 9/8/2024 21:50:31 | Mie rebus      | Nutrisari   | Sosis goreng   | Transfer (QRIS) | 2 | 3 | 2 |\n| 17 | 9/8/2024 21:51:14 | Nasi Sayur     | Es teh      | Kentang goreng | Cash            | 1 | 2 | 2 |\n| 18 | 9/8/2024 21:51:53 | Nasi Telur     | Tidak Pesan | Tidak Pesan    | Cash            | 2 | 0 | 0 |\n| 19 | 9/8/2024 21:52:35 | Mie rebus      | Tidak Pesan | Kerupuk        | Transfer (QRIS) | 1 | 0 | 2 |\n| 20 | 9/8/2024 21:53:19 | Nasi Goreng    | Nutrisari   | Tidak Pesan    | Cash            | 1 | 1 | 0 |\n| 21 | 9/8/2024 21:56:02 | Magelangan     | Jas jus     | Tahu isi       | Cash            | 2 | 1 | 1 |\n| 22 | 9/8/2024 21:56:06 | Nasi Goreng    | Nutrisari   | Kerupuk        | Cash            | 1 | 1 | 3 |\n| 23 | 9/8/2024 22:23:48 | Nasi Goreng    | Air es      | Tidak Pesan    | Cash            | 2 | 3 | 0 |\n| 24 | 9/8/2024 22:24:24 | Nasi Orak-Arik | Tidak Pesan | Tidak Pesan    | Transfer (QRIS) | 1 | 0 | 0 |\n| 25 | 9/8/2024 22:25:00 | Mie dok-dok    | Jas jus     | Tidak Pesan    | Cash            | 1 | 1 | 0 |\n| 26 | 9/8/2024 22:25:57 | Tidak Pesan    | Tidak Pesan | Sosis goreng   | Cash            | 0 | 0 | 3 |\n| 27 | 9/9/2024 10:33:12 | Nasi Goreng    | Jas jus     | Kerupuk        | Cash            | 1 | 5 | 5 |\n| 28 | 9/9/2024 10:33:53 | Nasi Ikan      | Es teh      | Jamur goreng   | Transfer (QRIS) | 1 | 2 | 1 |\n| 29 | 9/9/2024 10:34:39 | Mie dok-dok    | Air es      | Tidak Pesan    | Cash            | 2 | 2 | 0 |\n| 30 | 9/9/2024 10:36:09 | Mie rebus      | Es teh      | Tidak Pesan    | Cash            | 5 | 5 | 0 |\n| 31 | 9/9/2024 10:36:54 | Mie rebus      | Nutrisari   | Tidak Pesan    | Cash            | 1 | 1 | 0 |\n| 32 | 9/9/2024 10:37:39 | Nasi Ayam      | Tidak Pesan | Tidak Pesan    | Transfer (QRIS) | 1 | 0 | 0 |\n| 33 | 9/9/2024 10:37:51 | Nasi Ayam      | Es teh      | Kerupuk        | Cash            | 2 | 2 | 2 |\n| 34 | 9/9/2024 10:43:10 | Nasi Goreng    | Jas jus     | Tidak Pesan    | Cash            | 2 | 2 | 0 |\n\n",
            "text/latex": "A data.frame: 34 × 8\n\\begin{tabular}{r|llllllll}\n  & Timestamp & Pilih.Makanan.dibawah.ini & Pilih.Minuman.dibawah.ini & Pilih.snack.dibawah.ini & Pilih.metode.pembayaran & jumlah.makanan & Jumlah.Minuman & Jumlah.Snack\\\\\n  & <chr> & <chr> & <chr> & <chr> & <chr> & <dbl> & <dbl> & <dbl>\\\\\n\\hline\n\t1 & 9/8/2024 13:59:10 & Nasi Goreng    & Es teh      & Tidak Pesan    & Cash            & 1 & 1 & 0\\\\\n\t2 & 9/8/2024 14:01:53 & Nasi Ayam      & Es teh      & Kentang goreng & Cash            & 1 & 2 & 2\\\\\n\t3 & 9/8/2024 14:09:53 & Magelangan     & Air es      & bakwan         & Transfer (QRIS) & 1 & 1 & 1\\\\\n\t4 & 9/8/2024 14:10:01 & Nasi Goreng    & Air es      & Donat          & Transfer (QRIS) & 5 & 5 & 5\\\\\n\t5 & 9/8/2024 14:19:36 & Mie dok-dok    & Nutrisari   & Jamur goreng   & Cash            & 1 & 1 & 1\\\\\n\t6 & 9/8/2024 14:20:27 & Nasi Orak-Arik & Es teh      & Kentang goreng & Cash            & 5 & 5 & 5\\\\\n\t7 & 9/8/2024 14:21:19 & Nasi Goreng    & Es teh      & Tidak Pesan    & Cash            & 1 & 1 & 0\\\\\n\t8 & 9/8/2024 14:30:19 & Nasi Sayur     & Air es      & Tahu isi       & Transfer (QRIS) & 1 & 1 & 2\\\\\n\t9 & 9/8/2024 15:49:55 & Nasi Goreng    & Nutrisari   & Tidak Pesan    & Cash            & 1 & 1 & 0\\\\\n\t10 & 9/8/2024 19:25:38 & Nasi Ayam      & Es teh      & Tempe goreng   & Cash            & 3 & 2 & 2\\\\\n\t11 & 9/8/2024 21:46:29 & Mie goreng     & Tidak Pesan & Tidak Pesan    & Transfer (QRIS) & 1 & 0 & 0\\\\\n\t12 & 9/8/2024 21:47:33 & Magelangan     & Kopi        & Tidak Pesan    & Cash            & 1 & 3 & 0\\\\\n\t13 & 9/8/2024 21:48:40 & Nasi Ikan      & Susu        & Keripik pisang & Cash            & 1 & 2 & 1\\\\\n\t14 & 9/8/2024 21:49:19 & Tidak Pesan    & Susu        & Keripik pisang & Cash            & 0 & 1 & 3\\\\\n\t15 & 9/8/2024 21:49:49 & Nasi Orak-Arik & Tidak Pesan & Tidak Pesan    & Cash            & 1 & 0 & 0\\\\\n\t16 & 9/8/2024 21:50:31 & Mie rebus      & Nutrisari   & Sosis goreng   & Transfer (QRIS) & 2 & 3 & 2\\\\\n\t17 & 9/8/2024 21:51:14 & Nasi Sayur     & Es teh      & Kentang goreng & Cash            & 1 & 2 & 2\\\\\n\t18 & 9/8/2024 21:51:53 & Nasi Telur     & Tidak Pesan & Tidak Pesan    & Cash            & 2 & 0 & 0\\\\\n\t19 & 9/8/2024 21:52:35 & Mie rebus      & Tidak Pesan & Kerupuk        & Transfer (QRIS) & 1 & 0 & 2\\\\\n\t20 & 9/8/2024 21:53:19 & Nasi Goreng    & Nutrisari   & Tidak Pesan    & Cash            & 1 & 1 & 0\\\\\n\t21 & 9/8/2024 21:56:02 & Magelangan     & Jas jus     & Tahu isi       & Cash            & 2 & 1 & 1\\\\\n\t22 & 9/8/2024 21:56:06 & Nasi Goreng    & Nutrisari   & Kerupuk        & Cash            & 1 & 1 & 3\\\\\n\t23 & 9/8/2024 22:23:48 & Nasi Goreng    & Air es      & Tidak Pesan    & Cash            & 2 & 3 & 0\\\\\n\t24 & 9/8/2024 22:24:24 & Nasi Orak-Arik & Tidak Pesan & Tidak Pesan    & Transfer (QRIS) & 1 & 0 & 0\\\\\n\t25 & 9/8/2024 22:25:00 & Mie dok-dok    & Jas jus     & Tidak Pesan    & Cash            & 1 & 1 & 0\\\\\n\t26 & 9/8/2024 22:25:57 & Tidak Pesan    & Tidak Pesan & Sosis goreng   & Cash            & 0 & 0 & 3\\\\\n\t27 & 9/9/2024 10:33:12 & Nasi Goreng    & Jas jus     & Kerupuk        & Cash            & 1 & 5 & 5\\\\\n\t28 & 9/9/2024 10:33:53 & Nasi Ikan      & Es teh      & Jamur goreng   & Transfer (QRIS) & 1 & 2 & 1\\\\\n\t29 & 9/9/2024 10:34:39 & Mie dok-dok    & Air es      & Tidak Pesan    & Cash            & 2 & 2 & 0\\\\\n\t30 & 9/9/2024 10:36:09 & Mie rebus      & Es teh      & Tidak Pesan    & Cash            & 5 & 5 & 0\\\\\n\t31 & 9/9/2024 10:36:54 & Mie rebus      & Nutrisari   & Tidak Pesan    & Cash            & 1 & 1 & 0\\\\\n\t32 & 9/9/2024 10:37:39 & Nasi Ayam      & Tidak Pesan & Tidak Pesan    & Transfer (QRIS) & 1 & 0 & 0\\\\\n\t33 & 9/9/2024 10:37:51 & Nasi Ayam      & Es teh      & Kerupuk        & Cash            & 2 & 2 & 2\\\\\n\t34 & 9/9/2024 10:43:10 & Nasi Goreng    & Jas jus     & Tidak Pesan    & Cash            & 2 & 2 & 0\\\\\n\\end{tabular}\n",
            "text/plain": [
              "   Timestamp         Pilih.Makanan.dibawah.ini Pilih.Minuman.dibawah.ini\n",
              "1  9/8/2024 13:59:10 Nasi Goreng               Es teh                   \n",
              "2  9/8/2024 14:01:53 Nasi Ayam                 Es teh                   \n",
              "3  9/8/2024 14:09:53 Magelangan                Air es                   \n",
              "4  9/8/2024 14:10:01 Nasi Goreng               Air es                   \n",
              "5  9/8/2024 14:19:36 Mie dok-dok               Nutrisari                \n",
              "6  9/8/2024 14:20:27 Nasi Orak-Arik            Es teh                   \n",
              "7  9/8/2024 14:21:19 Nasi Goreng               Es teh                   \n",
              "8  9/8/2024 14:30:19 Nasi Sayur                Air es                   \n",
              "9  9/8/2024 15:49:55 Nasi Goreng               Nutrisari                \n",
              "10 9/8/2024 19:25:38 Nasi Ayam                 Es teh                   \n",
              "11 9/8/2024 21:46:29 Mie goreng                Tidak Pesan              \n",
              "12 9/8/2024 21:47:33 Magelangan                Kopi                     \n",
              "13 9/8/2024 21:48:40 Nasi Ikan                 Susu                     \n",
              "14 9/8/2024 21:49:19 Tidak Pesan               Susu                     \n",
              "15 9/8/2024 21:49:49 Nasi Orak-Arik            Tidak Pesan              \n",
              "16 9/8/2024 21:50:31 Mie rebus                 Nutrisari                \n",
              "17 9/8/2024 21:51:14 Nasi Sayur                Es teh                   \n",
              "18 9/8/2024 21:51:53 Nasi Telur                Tidak Pesan              \n",
              "19 9/8/2024 21:52:35 Mie rebus                 Tidak Pesan              \n",
              "20 9/8/2024 21:53:19 Nasi Goreng               Nutrisari                \n",
              "21 9/8/2024 21:56:02 Magelangan                Jas jus                  \n",
              "22 9/8/2024 21:56:06 Nasi Goreng               Nutrisari                \n",
              "23 9/8/2024 22:23:48 Nasi Goreng               Air es                   \n",
              "24 9/8/2024 22:24:24 Nasi Orak-Arik            Tidak Pesan              \n",
              "25 9/8/2024 22:25:00 Mie dok-dok               Jas jus                  \n",
              "26 9/8/2024 22:25:57 Tidak Pesan               Tidak Pesan              \n",
              "27 9/9/2024 10:33:12 Nasi Goreng               Jas jus                  \n",
              "28 9/9/2024 10:33:53 Nasi Ikan                 Es teh                   \n",
              "29 9/9/2024 10:34:39 Mie dok-dok               Air es                   \n",
              "30 9/9/2024 10:36:09 Mie rebus                 Es teh                   \n",
              "31 9/9/2024 10:36:54 Mie rebus                 Nutrisari                \n",
              "32 9/9/2024 10:37:39 Nasi Ayam                 Tidak Pesan              \n",
              "33 9/9/2024 10:37:51 Nasi Ayam                 Es teh                   \n",
              "34 9/9/2024 10:43:10 Nasi Goreng               Jas jus                  \n",
              "   Pilih.snack.dibawah.ini Pilih.metode.pembayaran jumlah.makanan\n",
              "1  Tidak Pesan             Cash                    1             \n",
              "2  Kentang goreng          Cash                    1             \n",
              "3  bakwan                  Transfer (QRIS)         1             \n",
              "4  Donat                   Transfer (QRIS)         5             \n",
              "5  Jamur goreng            Cash                    1             \n",
              "6  Kentang goreng          Cash                    5             \n",
              "7  Tidak Pesan             Cash                    1             \n",
              "8  Tahu isi                Transfer (QRIS)         1             \n",
              "9  Tidak Pesan             Cash                    1             \n",
              "10 Tempe goreng            Cash                    3             \n",
              "11 Tidak Pesan             Transfer (QRIS)         1             \n",
              "12 Tidak Pesan             Cash                    1             \n",
              "13 Keripik pisang          Cash                    1             \n",
              "14 Keripik pisang          Cash                    0             \n",
              "15 Tidak Pesan             Cash                    1             \n",
              "16 Sosis goreng            Transfer (QRIS)         2             \n",
              "17 Kentang goreng          Cash                    1             \n",
              "18 Tidak Pesan             Cash                    2             \n",
              "19 Kerupuk                 Transfer (QRIS)         1             \n",
              "20 Tidak Pesan             Cash                    1             \n",
              "21 Tahu isi                Cash                    2             \n",
              "22 Kerupuk                 Cash                    1             \n",
              "23 Tidak Pesan             Cash                    2             \n",
              "24 Tidak Pesan             Transfer (QRIS)         1             \n",
              "25 Tidak Pesan             Cash                    1             \n",
              "26 Sosis goreng            Cash                    0             \n",
              "27 Kerupuk                 Cash                    1             \n",
              "28 Jamur goreng            Transfer (QRIS)         1             \n",
              "29 Tidak Pesan             Cash                    2             \n",
              "30 Tidak Pesan             Cash                    5             \n",
              "31 Tidak Pesan             Cash                    1             \n",
              "32 Tidak Pesan             Transfer (QRIS)         1             \n",
              "33 Kerupuk                 Cash                    2             \n",
              "34 Tidak Pesan             Cash                    2             \n",
              "   Jumlah.Minuman Jumlah.Snack\n",
              "1  1              0           \n",
              "2  2              2           \n",
              "3  1              1           \n",
              "4  5              5           \n",
              "5  1              1           \n",
              "6  5              5           \n",
              "7  1              0           \n",
              "8  1              2           \n",
              "9  1              0           \n",
              "10 2              2           \n",
              "11 0              0           \n",
              "12 3              0           \n",
              "13 2              1           \n",
              "14 1              3           \n",
              "15 0              0           \n",
              "16 3              2           \n",
              "17 2              2           \n",
              "18 0              0           \n",
              "19 0              2           \n",
              "20 1              0           \n",
              "21 1              1           \n",
              "22 1              3           \n",
              "23 3              0           \n",
              "24 0              0           \n",
              "25 1              0           \n",
              "26 0              3           \n",
              "27 5              5           \n",
              "28 2              1           \n",
              "29 2              0           \n",
              "30 5              0           \n",
              "31 1              0           \n",
              "32 0              0           \n",
              "33 2              2           \n",
              "34 2              0           "
            ]
          },
          "metadata": {}
        }
      ]
    },
    {
      "cell_type": "markdown",
      "source": [
        "data_warmindo yang dikumpulkan adalah data_warmindo dari berbagai pelanggan yang menugunjungi warminndo. data_warmindo terdiri atas data_warmindo pelanggan dan data_warmindo pesanan yakni makanan dan minuman."
      ],
      "metadata": {
        "id": "bjQgA7p_1-Ai"
      }
    },
    {
      "cell_type": "code",
      "source": [
        "summary(data_warmindo)"
      ],
      "metadata": {
        "id": "jY606l2swSU9",
        "colab": {
          "base_uri": "https://localhost:8080/",
          "height": 394
        },
        "outputId": "8bd3e67a-43fd-48c9-e377-0be2000c9243"
      },
      "execution_count": null,
      "outputs": [
        {
          "output_type": "display_data",
          "data": {
            "text/plain": [
              "  Timestamp         Pilih.Makanan.dibawah.ini Pilih.Minuman.dibawah.ini\n",
              " Length:34          Length:34                 Length:34                \n",
              " Class :character   Class :character          Class :character         \n",
              " Mode  :character   Mode  :character          Mode  :character         \n",
              "                                                                       \n",
              "                                                                       \n",
              "                                                                       \n",
              " Pilih.snack.dibawah.ini Pilih.metode.pembayaran jumlah.makanan \n",
              " Length:34               Length:34               Min.   :0.000  \n",
              " Class :character        Class :character        1st Qu.:1.000  \n",
              " Mode  :character        Mode  :character        Median :1.000  \n",
              "                                                 Mean   :1.559  \n",
              "                                                 3rd Qu.:2.000  \n",
              "                                                 Max.   :5.000  \n",
              " Jumlah.Minuman   Jumlah.Snack  \n",
              " Min.   :0.000   Min.   :0.000  \n",
              " 1st Qu.:1.000   1st Qu.:0.000  \n",
              " Median :1.000   Median :1.000  \n",
              " Mean   :1.676   Mean   :1.265  \n",
              " 3rd Qu.:2.000   3rd Qu.:2.000  \n",
              " Max.   :5.000   Max.   :5.000  "
            ]
          },
          "metadata": {}
        }
      ]
    },
    {
      "cell_type": "code",
      "source": [
        "install.packages(\"visdat\")\n",
        "library(visdat)\n",
        "vis_miss(data_warmindo)"
      ],
      "metadata": {
        "id": "Esl7IsA037s0",
        "colab": {
          "base_uri": "https://localhost:8080/",
          "height": 491
        },
        "outputId": "692d245a-8dde-4e52-dc18-84451551bb0c"
      },
      "execution_count": null,
      "outputs": [
        {
          "output_type": "stream",
          "name": "stderr",
          "text": [
            "Installing package into ‘/usr/local/lib/R/site-library’\n",
            "(as ‘lib’ is unspecified)\n",
            "\n"
          ]
        },
        {
          "output_type": "display_data",
          "data": {
            "text/plain": [
              "plot without title"
            ],
            "image/png": "[encoded data removed]"
          },
          "metadata": {
            "image/png": {
              "width": 420,
              "height": 420
            }
          }
        }
      ]
    },
    {
      "cell_type": "code",
      "source": [
        "data_warmindo$Pilih.metode.pembayaran<- as.factor (data_warmindo$Pilih.metode.pembayaran)\n",
        "data_warmindo$Pilih.Makanan.dibawah.ini<- as.factor (data_warmindo$Pilih.Makanan.dibawah.ini)\n",
        "data_warmindo$Pilih.Minuman.dibawah.ini<- as.factor (data_warmindo$Pilih.Minuman.dibawah.ini)\n",
        "data_warmindo$Pilih.snack.dibawah.ini<- as.factor (data_warmindo$Pilih.snack.dibawah.ini)"
      ],
      "metadata": {
        "id": "AEzLf-4H4GNb"
      },
      "execution_count": null,
      "outputs": []
    },
    {
      "cell_type": "code",
      "source": [
        "data_warmindo"
      ],
      "metadata": {
        "id": "QO_-gcQP4lZr",
        "colab": {
          "base_uri": "https://localhost:8080/",
          "height": 1000
        },
        "outputId": "9182ac84-bca0-48f0-9ecf-e6d92e0b5796"
      },
      "execution_count": null,
      "outputs": [
        {
          "output_type": "display_data",
          "data": {
            "text/html": [
              "<table class=\"dataframe\">\n",
              "<caption>A data.frame: 34 × 8</caption>\n",
              "<thead>\n",
              "\t<tr><th></th><th scope=col>Timestamp</th><th scope=col>Pilih.Makanan.dibawah.ini</th><th scope=col>Pilih.Minuman.dibawah.ini</th><th scope=col>Pilih.snack.dibawah.ini</th><th scope=col>Pilih.metode.pembayaran</th><th scope=col>jumlah.makanan</th><th scope=col>Jumlah.Minuman</th><th scope=col>Jumlah.Snack</th></tr>\n",
              "\t<tr><th></th><th scope=col>&lt;chr&gt;</th><th scope=col>&lt;fct&gt;</th><th scope=col>&lt;fct&gt;</th><th scope=col>&lt;fct&gt;</th><th scope=col>&lt;fct&gt;</th><th scope=col>&lt;dbl&gt;</th><th scope=col>&lt;dbl&gt;</th><th scope=col>&lt;dbl&gt;</th></tr>\n",
              "</thead>\n",
              "<tbody>\n",
              "\t<tr><th scope=row>1</th><td>9/8/2024 13:59:10</td><td>Nasi Goreng   </td><td>Es teh     </td><td>Tidak Pesan   </td><td>Cash           </td><td>1</td><td>1</td><td>0</td></tr>\n",
              "\t<tr><th scope=row>2</th><td>9/8/2024 14:01:53</td><td>Nasi Ayam     </td><td>Es teh     </td><td>Kentang goreng</td><td>Cash           </td><td>1</td><td>2</td><td>2</td></tr>\n",
              "\t<tr><th scope=row>3</th><td>9/8/2024 14:09:53</td><td>Magelangan    </td><td>Air es     </td><td>bakwan        </td><td>Transfer (QRIS)</td><td>1</td><td>1</td><td>1</td></tr>\n",
              "\t<tr><th scope=row>4</th><td>9/8/2024 14:10:01</td><td>Nasi Goreng   </td><td>Air es     </td><td>Donat         </td><td>Transfer (QRIS)</td><td>5</td><td>5</td><td>5</td></tr>\n",
              "\t<tr><th scope=row>5</th><td>9/8/2024 14:19:36</td><td>Mie dok-dok   </td><td>Nutrisari  </td><td>Jamur goreng  </td><td>Cash           </td><td>1</td><td>1</td><td>1</td></tr>\n",
              "\t<tr><th scope=row>6</th><td>9/8/2024 14:20:27</td><td>Nasi Orak-Arik</td><td>Es teh     </td><td>Kentang goreng</td><td>Cash           </td><td>5</td><td>5</td><td>5</td></tr>\n",
              "\t<tr><th scope=row>7</th><td>9/8/2024 14:21:19</td><td>Nasi Goreng   </td><td>Es teh     </td><td>Tidak Pesan   </td><td>Cash           </td><td>1</td><td>1</td><td>0</td></tr>\n",
              "\t<tr><th scope=row>8</th><td>9/8/2024 14:30:19</td><td>Nasi Sayur    </td><td>Air es     </td><td>Tahu isi      </td><td>Transfer (QRIS)</td><td>1</td><td>1</td><td>2</td></tr>\n",
              "\t<tr><th scope=row>9</th><td>9/8/2024 15:49:55</td><td>Nasi Goreng   </td><td>Nutrisari  </td><td>Tidak Pesan   </td><td>Cash           </td><td>1</td><td>1</td><td>0</td></tr>\n",
              "\t<tr><th scope=row>10</th><td>9/8/2024 19:25:38</td><td>Nasi Ayam     </td><td>Es teh     </td><td>Tempe goreng  </td><td>Cash           </td><td>3</td><td>2</td><td>2</td></tr>\n",
              "\t<tr><th scope=row>11</th><td>9/8/2024 21:46:29</td><td>Mie goreng    </td><td>Tidak Pesan</td><td>Tidak Pesan   </td><td>Transfer (QRIS)</td><td>1</td><td>0</td><td>0</td></tr>\n",
              "\t<tr><th scope=row>12</th><td>9/8/2024 21:47:33</td><td>Magelangan    </td><td>Kopi       </td><td>Tidak Pesan   </td><td>Cash           </td><td>1</td><td>3</td><td>0</td></tr>\n",
              "\t<tr><th scope=row>13</th><td>9/8/2024 21:48:40</td><td>Nasi Ikan     </td><td>Susu       </td><td>Keripik pisang</td><td>Cash           </td><td>1</td><td>2</td><td>1</td></tr>\n",
              "\t<tr><th scope=row>14</th><td>9/8/2024 21:49:19</td><td>Tidak Pesan   </td><td>Susu       </td><td>Keripik pisang</td><td>Cash           </td><td>0</td><td>1</td><td>3</td></tr>\n",
              "\t<tr><th scope=row>15</th><td>9/8/2024 21:49:49</td><td>Nasi Orak-Arik</td><td>Tidak Pesan</td><td>Tidak Pesan   </td><td>Cash           </td><td>1</td><td>0</td><td>0</td></tr>\n",
              "\t<tr><th scope=row>16</th><td>9/8/2024 21:50:31</td><td>Mie rebus     </td><td>Nutrisari  </td><td>Sosis goreng  </td><td>Transfer (QRIS)</td><td>2</td><td>3</td><td>2</td></tr>\n",
              "\t<tr><th scope=row>17</th><td>9/8/2024 21:51:14</td><td>Nasi Sayur    </td><td>Es teh     </td><td>Kentang goreng</td><td>Cash           </td><td>1</td><td>2</td><td>2</td></tr>\n",
              "\t<tr><th scope=row>18</th><td>9/8/2024 21:51:53</td><td>Nasi Telur    </td><td>Tidak Pesan</td><td>Tidak Pesan   </td><td>Cash           </td><td>2</td><td>0</td><td>0</td></tr>\n",
              "\t<tr><th scope=row>19</th><td>9/8/2024 21:52:35</td><td>Mie rebus     </td><td>Tidak Pesan</td><td>Kerupuk       </td><td>Transfer (QRIS)</td><td>1</td><td>0</td><td>2</td></tr>\n",
              "\t<tr><th scope=row>20</th><td>9/8/2024 21:53:19</td><td>Nasi Goreng   </td><td>Nutrisari  </td><td>Tidak Pesan   </td><td>Cash           </td><td>1</td><td>1</td><td>0</td></tr>\n",
              "\t<tr><th scope=row>21</th><td>9/8/2024 21:56:02</td><td>Magelangan    </td><td>Jas jus    </td><td>Tahu isi      </td><td>Cash           </td><td>2</td><td>1</td><td>1</td></tr>\n",
              "\t<tr><th scope=row>22</th><td>9/8/2024 21:56:06</td><td>Nasi Goreng   </td><td>Nutrisari  </td><td>Kerupuk       </td><td>Cash           </td><td>1</td><td>1</td><td>3</td></tr>\n",
              "\t<tr><th scope=row>23</th><td>9/8/2024 22:23:48</td><td>Nasi Goreng   </td><td>Air es     </td><td>Tidak Pesan   </td><td>Cash           </td><td>2</td><td>3</td><td>0</td></tr>\n",
              "\t<tr><th scope=row>24</th><td>9/8/2024 22:24:24</td><td>Nasi Orak-Arik</td><td>Tidak Pesan</td><td>Tidak Pesan   </td><td>Transfer (QRIS)</td><td>1</td><td>0</td><td>0</td></tr>\n",
              "\t<tr><th scope=row>25</th><td>9/8/2024 22:25:00</td><td>Mie dok-dok   </td><td>Jas jus    </td><td>Tidak Pesan   </td><td>Cash           </td><td>1</td><td>1</td><td>0</td></tr>\n",
              "\t<tr><th scope=row>26</th><td>9/8/2024 22:25:57</td><td>Tidak Pesan   </td><td>Tidak Pesan</td><td>Sosis goreng  </td><td>Cash           </td><td>0</td><td>0</td><td>3</td></tr>\n",
              "\t<tr><th scope=row>27</th><td>9/9/2024 10:33:12</td><td>Nasi Goreng   </td><td>Jas jus    </td><td>Kerupuk       </td><td>Cash           </td><td>1</td><td>5</td><td>5</td></tr>\n",
              "\t<tr><th scope=row>28</th><td>9/9/2024 10:33:53</td><td>Nasi Ikan     </td><td>Es teh     </td><td>Jamur goreng  </td><td>Transfer (QRIS)</td><td>1</td><td>2</td><td>1</td></tr>\n",
              "\t<tr><th scope=row>29</th><td>9/9/2024 10:34:39</td><td>Mie dok-dok   </td><td>Air es     </td><td>Tidak Pesan   </td><td>Cash           </td><td>2</td><td>2</td><td>0</td></tr>\n",
              "\t<tr><th scope=row>30</th><td>9/9/2024 10:36:09</td><td>Mie rebus     </td><td>Es teh     </td><td>Tidak Pesan   </td><td>Cash           </td><td>5</td><td>5</td><td>0</td></tr>\n",
              "\t<tr><th scope=row>31</th><td>9/9/2024 10:36:54</td><td>Mie rebus     </td><td>Nutrisari  </td><td>Tidak Pesan   </td><td>Cash           </td><td>1</td><td>1</td><td>0</td></tr>\n",
              "\t<tr><th scope=row>32</th><td>9/9/2024 10:37:39</td><td>Nasi Ayam     </td><td>Tidak Pesan</td><td>Tidak Pesan   </td><td>Transfer (QRIS)</td><td>1</td><td>0</td><td>0</td></tr>\n",
              "\t<tr><th scope=row>33</th><td>9/9/2024 10:37:51</td><td>Nasi Ayam     </td><td>Es teh     </td><td>Kerupuk       </td><td>Cash           </td><td>2</td><td>2</td><td>2</td></tr>\n",
              "\t<tr><th scope=row>34</th><td>9/9/2024 10:43:10</td><td>Nasi Goreng   </td><td>Jas jus    </td><td>Tidak Pesan   </td><td>Cash           </td><td>2</td><td>2</td><td>0</td></tr>\n",
              "</tbody>\n",
              "</table>\n"
            ],
            "text/markdown": "\nA data.frame: 34 × 8\n\n| <!--/--> | Timestamp &lt;chr&gt; | Pilih.Makanan.dibawah.ini &lt;fct&gt; | Pilih.Minuman.dibawah.ini &lt;fct&gt; | Pilih.snack.dibawah.ini &lt;fct&gt; | Pilih.metode.pembayaran &lt;fct&gt; | jumlah.makanan &lt;dbl&gt; | Jumlah.Minuman &lt;dbl&gt; | Jumlah.Snack &lt;dbl&gt; |\n|---|---|---|---|---|---|---|---|---|\n| 1 | 9/8/2024 13:59:10 | Nasi Goreng    | Es teh      | Tidak Pesan    | Cash            | 1 | 1 | 0 |\n| 2 | 9/8/2024 14:01:53 | Nasi Ayam      | Es teh      | Kentang goreng | Cash            | 1 | 2 | 2 |\n| 3 | 9/8/2024 14:09:53 | Magelangan     | Air es      | bakwan         | Transfer (QRIS) | 1 | 1 | 1 |\n| 4 | 9/8/2024 14:10:01 | Nasi Goreng    | Air es      | Donat          | Transfer (QRIS) | 5 | 5 | 5 |\n| 5 | 9/8/2024 14:19:36 | Mie dok-dok    | Nutrisari   | Jamur goreng   | Cash            | 1 | 1 | 1 |\n| 6 | 9/8/2024 14:20:27 | Nasi Orak-Arik | Es teh      | Kentang goreng | Cash            | 5 | 5 | 5 |\n| 7 | 9/8/2024 14:21:19 | Nasi Goreng    | Es teh      | Tidak Pesan    | Cash            | 1 | 1 | 0 |\n| 8 | 9/8/2024 14:30:19 | Nasi Sayur     | Air es      | Tahu isi       | Transfer (QRIS) | 1 | 1 | 2 |\n| 9 | 9/8/2024 15:49:55 | Nasi Goreng    | Nutrisari   | Tidak Pesan    | Cash            | 1 | 1 | 0 |\n| 10 | 9/8/2024 19:25:38 | Nasi Ayam      | Es teh      | Tempe goreng   | Cash            | 3 | 2 | 2 |\n| 11 | 9/8/2024 21:46:29 | Mie goreng     | Tidak Pesan | Tidak Pesan    | Transfer (QRIS) | 1 | 0 | 0 |\n| 12 | 9/8/2024 21:47:33 | Magelangan     | Kopi        | Tidak Pesan    | Cash            | 1 | 3 | 0 |\n| 13 | 9/8/2024 21:48:40 | Nasi Ikan      | Susu        | Keripik pisang | Cash            | 1 | 2 | 1 |\n| 14 | 9/8/2024 21:49:19 | Tidak Pesan    | Susu        | Keripik pisang | Cash            | 0 | 1 | 3 |\n| 15 | 9/8/2024 21:49:49 | Nasi Orak-Arik | Tidak Pesan | Tidak Pesan    | Cash            | 1 | 0 | 0 |\n| 16 | 9/8/2024 21:50:31 | Mie rebus      | Nutrisari   | Sosis goreng   | Transfer (QRIS) | 2 | 3 | 2 |\n| 17 | 9/8/2024 21:51:14 | Nasi Sayur     | Es teh      | Kentang goreng | Cash            | 1 | 2 | 2 |\n| 18 | 9/8/2024 21:51:53 | Nasi Telur     | Tidak Pesan | Tidak Pesan    | Cash            | 2 | 0 | 0 |\n| 19 | 9/8/2024 21:52:35 | Mie rebus      | Tidak Pesan | Kerupuk        | Transfer (QRIS) | 1 | 0 | 2 |\n| 20 | 9/8/2024 21:53:19 | Nasi Goreng    | Nutrisari   | Tidak Pesan    | Cash            | 1 | 1 | 0 |\n| 21 | 9/8/2024 21:56:02 | Magelangan     | Jas jus     | Tahu isi       | Cash            | 2 | 1 | 1 |\n| 22 | 9/8/2024 21:56:06 | Nasi Goreng    | Nutrisari   | Kerupuk        | Cash            | 1 | 1 | 3 |\n| 23 | 9/8/2024 22:23:48 | Nasi Goreng    | Air es      | Tidak Pesan    | Cash            | 2 | 3 | 0 |\n| 24 | 9/8/2024 22:24:24 | Nasi Orak-Arik | Tidak Pesan | Tidak Pesan    | Transfer (QRIS) | 1 | 0 | 0 |\n| 25 | 9/8/2024 22:25:00 | Mie dok-dok    | Jas jus     | Tidak Pesan    | Cash            | 1 | 1 | 0 |\n| 26 | 9/8/2024 22:25:57 | Tidak Pesan    | Tidak Pesan | Sosis goreng   | Cash            | 0 | 0 | 3 |\n| 27 | 9/9/2024 10:33:12 | Nasi Goreng    | Jas jus     | Kerupuk        | Cash            | 1 | 5 | 5 |\n| 28 | 9/9/2024 10:33:53 | Nasi Ikan      | Es teh      | Jamur goreng   | Transfer (QRIS) | 1 | 2 | 1 |\n| 29 | 9/9/2024 10:34:39 | Mie dok-dok    | Air es      | Tidak Pesan    | Cash            | 2 | 2 | 0 |\n| 30 | 9/9/2024 10:36:09 | Mie rebus      | Es teh      | Tidak Pesan    | Cash            | 5 | 5 | 0 |\n| 31 | 9/9/2024 10:36:54 | Mie rebus      | Nutrisari   | Tidak Pesan    | Cash            | 1 | 1 | 0 |\n| 32 | 9/9/2024 10:37:39 | Nasi Ayam      | Tidak Pesan | Tidak Pesan    | Transfer (QRIS) | 1 | 0 | 0 |\n| 33 | 9/9/2024 10:37:51 | Nasi Ayam      | Es teh      | Kerupuk        | Cash            | 2 | 2 | 2 |\n| 34 | 9/9/2024 10:43:10 | Nasi Goreng    | Jas jus     | Tidak Pesan    | Cash            | 2 | 2 | 0 |\n\n",
            "text/latex": "A data.frame: 34 × 8\n\\begin{tabular}{r|llllllll}\n  & Timestamp & Pilih.Makanan.dibawah.ini & Pilih.Minuman.dibawah.ini & Pilih.snack.dibawah.ini & Pilih.metode.pembayaran & jumlah.makanan & Jumlah.Minuman & Jumlah.Snack\\\\\n  & <chr> & <fct> & <fct> & <fct> & <fct> & <dbl> & <dbl> & <dbl>\\\\\n\\hline\n\t1 & 9/8/2024 13:59:10 & Nasi Goreng    & Es teh      & Tidak Pesan    & Cash            & 1 & 1 & 0\\\\\n\t2 & 9/8/2024 14:01:53 & Nasi Ayam      & Es teh      & Kentang goreng & Cash            & 1 & 2 & 2\\\\\n\t3 & 9/8/2024 14:09:53 & Magelangan     & Air es      & bakwan         & Transfer (QRIS) & 1 & 1 & 1\\\\\n\t4 & 9/8/2024 14:10:01 & Nasi Goreng    & Air es      & Donat          & Transfer (QRIS) & 5 & 5 & 5\\\\\n\t5 & 9/8/2024 14:19:36 & Mie dok-dok    & Nutrisari   & Jamur goreng   & Cash            & 1 & 1 & 1\\\\\n\t6 & 9/8/2024 14:20:27 & Nasi Orak-Arik & Es teh      & Kentang goreng & Cash            & 5 & 5 & 5\\\\\n\t7 & 9/8/2024 14:21:19 & Nasi Goreng    & Es teh      & Tidak Pesan    & Cash            & 1 & 1 & 0\\\\\n\t8 & 9/8/2024 14:30:19 & Nasi Sayur     & Air es      & Tahu isi       & Transfer (QRIS) & 1 & 1 & 2\\\\\n\t9 & 9/8/2024 15:49:55 & Nasi Goreng    & Nutrisari   & Tidak Pesan    & Cash            & 1 & 1 & 0\\\\\n\t10 & 9/8/2024 19:25:38 & Nasi Ayam      & Es teh      & Tempe goreng   & Cash            & 3 & 2 & 2\\\\\n\t11 & 9/8/2024 21:46:29 & Mie goreng     & Tidak Pesan & Tidak Pesan    & Transfer (QRIS) & 1 & 0 & 0\\\\\n\t12 & 9/8/2024 21:47:33 & Magelangan     & Kopi        & Tidak Pesan    & Cash            & 1 & 3 & 0\\\\\n\t13 & 9/8/2024 21:48:40 & Nasi Ikan      & Susu        & Keripik pisang & Cash            & 1 & 2 & 1\\\\\n\t14 & 9/8/2024 21:49:19 & Tidak Pesan    & Susu        & Keripik pisang & Cash            & 0 & 1 & 3\\\\\n\t15 & 9/8/2024 21:49:49 & Nasi Orak-Arik & Tidak Pesan & Tidak Pesan    & Cash            & 1 & 0 & 0\\\\\n\t16 & 9/8/2024 21:50:31 & Mie rebus      & Nutrisari   & Sosis goreng   & Transfer (QRIS) & 2 & 3 & 2\\\\\n\t17 & 9/8/2024 21:51:14 & Nasi Sayur     & Es teh      & Kentang goreng & Cash            & 1 & 2 & 2\\\\\n\t18 & 9/8/2024 21:51:53 & Nasi Telur     & Tidak Pesan & Tidak Pesan    & Cash            & 2 & 0 & 0\\\\\n\t19 & 9/8/2024 21:52:35 & Mie rebus      & Tidak Pesan & Kerupuk        & Transfer (QRIS) & 1 & 0 & 2\\\\\n\t20 & 9/8/2024 21:53:19 & Nasi Goreng    & Nutrisari   & Tidak Pesan    & Cash            & 1 & 1 & 0\\\\\n\t21 & 9/8/2024 21:56:02 & Magelangan     & Jas jus     & Tahu isi       & Cash            & 2 & 1 & 1\\\\\n\t22 & 9/8/2024 21:56:06 & Nasi Goreng    & Nutrisari   & Kerupuk        & Cash            & 1 & 1 & 3\\\\\n\t23 & 9/8/2024 22:23:48 & Nasi Goreng    & Air es      & Tidak Pesan    & Cash            & 2 & 3 & 0\\\\\n\t24 & 9/8/2024 22:24:24 & Nasi Orak-Arik & Tidak Pesan & Tidak Pesan    & Transfer (QRIS) & 1 & 0 & 0\\\\\n\t25 & 9/8/2024 22:25:00 & Mie dok-dok    & Jas jus     & Tidak Pesan    & Cash            & 1 & 1 & 0\\\\\n\t26 & 9/8/2024 22:25:57 & Tidak Pesan    & Tidak Pesan & Sosis goreng   & Cash            & 0 & 0 & 3\\\\\n\t27 & 9/9/2024 10:33:12 & Nasi Goreng    & Jas jus     & Kerupuk        & Cash            & 1 & 5 & 5\\\\\n\t28 & 9/9/2024 10:33:53 & Nasi Ikan      & Es teh      & Jamur goreng   & Transfer (QRIS) & 1 & 2 & 1\\\\\n\t29 & 9/9/2024 10:34:39 & Mie dok-dok    & Air es      & Tidak Pesan    & Cash            & 2 & 2 & 0\\\\\n\t30 & 9/9/2024 10:36:09 & Mie rebus      & Es teh      & Tidak Pesan    & Cash            & 5 & 5 & 0\\\\\n\t31 & 9/9/2024 10:36:54 & Mie rebus      & Nutrisari   & Tidak Pesan    & Cash            & 1 & 1 & 0\\\\\n\t32 & 9/9/2024 10:37:39 & Nasi Ayam      & Tidak Pesan & Tidak Pesan    & Transfer (QRIS) & 1 & 0 & 0\\\\\n\t33 & 9/9/2024 10:37:51 & Nasi Ayam      & Es teh      & Kerupuk        & Cash            & 2 & 2 & 2\\\\\n\t34 & 9/9/2024 10:43:10 & Nasi Goreng    & Jas jus     & Tidak Pesan    & Cash            & 2 & 2 & 0\\\\\n\\end{tabular}\n",
            "text/plain": [
              "   Timestamp         Pilih.Makanan.dibawah.ini Pilih.Minuman.dibawah.ini\n",
              "1  9/8/2024 13:59:10 Nasi Goreng               Es teh                   \n",
              "2  9/8/2024 14:01:53 Nasi Ayam                 Es teh                   \n",
              "3  9/8/2024 14:09:53 Magelangan                Air es                   \n",
              "4  9/8/2024 14:10:01 Nasi Goreng               Air es                   \n",
              "5  9/8/2024 14:19:36 Mie dok-dok               Nutrisari                \n",
              "6  9/8/2024 14:20:27 Nasi Orak-Arik            Es teh                   \n",
              "7  9/8/2024 14:21:19 Nasi Goreng               Es teh                   \n",
              "8  9/8/2024 14:30:19 Nasi Sayur                Air es                   \n",
              "9  9/8/2024 15:49:55 Nasi Goreng               Nutrisari                \n",
              "10 9/8/2024 19:25:38 Nasi Ayam                 Es teh                   \n",
              "11 9/8/2024 21:46:29 Mie goreng                Tidak Pesan              \n",
              "12 9/8/2024 21:47:33 Magelangan                Kopi                     \n",
              "13 9/8/2024 21:48:40 Nasi Ikan                 Susu                     \n",
              "14 9/8/2024 21:49:19 Tidak Pesan               Susu                     \n",
              "15 9/8/2024 21:49:49 Nasi Orak-Arik            Tidak Pesan              \n",
              "16 9/8/2024 21:50:31 Mie rebus                 Nutrisari                \n",
              "17 9/8/2024 21:51:14 Nasi Sayur                Es teh                   \n",
              "18 9/8/2024 21:51:53 Nasi Telur                Tidak Pesan              \n",
              "19 9/8/2024 21:52:35 Mie rebus                 Tidak Pesan              \n",
              "20 9/8/2024 21:53:19 Nasi Goreng               Nutrisari                \n",
              "21 9/8/2024 21:56:02 Magelangan                Jas jus                  \n",
              "22 9/8/2024 21:56:06 Nasi Goreng               Nutrisari                \n",
              "23 9/8/2024 22:23:48 Nasi Goreng               Air es                   \n",
              "24 9/8/2024 22:24:24 Nasi Orak-Arik            Tidak Pesan              \n",
              "25 9/8/2024 22:25:00 Mie dok-dok               Jas jus                  \n",
              "26 9/8/2024 22:25:57 Tidak Pesan               Tidak Pesan              \n",
              "27 9/9/2024 10:33:12 Nasi Goreng               Jas jus                  \n",
              "28 9/9/2024 10:33:53 Nasi Ikan                 Es teh                   \n",
              "29 9/9/2024 10:34:39 Mie dok-dok               Air es                   \n",
              "30 9/9/2024 10:36:09 Mie rebus                 Es teh                   \n",
              "31 9/9/2024 10:36:54 Mie rebus                 Nutrisari                \n",
              "32 9/9/2024 10:37:39 Nasi Ayam                 Tidak Pesan              \n",
              "33 9/9/2024 10:37:51 Nasi Ayam                 Es teh                   \n",
              "34 9/9/2024 10:43:10 Nasi Goreng               Jas jus                  \n",
              "   Pilih.snack.dibawah.ini Pilih.metode.pembayaran jumlah.makanan\n",
              "1  Tidak Pesan             Cash                    1             \n",
              "2  Kentang goreng          Cash                    1             \n",
              "3  bakwan                  Transfer (QRIS)         1             \n",
              "4  Donat                   Transfer (QRIS)         5             \n",
              "5  Jamur goreng            Cash                    1             \n",
              "6  Kentang goreng          Cash                    5             \n",
              "7  Tidak Pesan             Cash                    1             \n",
              "8  Tahu isi                Transfer (QRIS)         1             \n",
              "9  Tidak Pesan             Cash                    1             \n",
              "10 Tempe goreng            Cash                    3             \n",
              "11 Tidak Pesan             Transfer (QRIS)         1             \n",
              "12 Tidak Pesan             Cash                    1             \n",
              "13 Keripik pisang          Cash                    1             \n",
              "14 Keripik pisang          Cash                    0             \n",
              "15 Tidak Pesan             Cash                    1             \n",
              "16 Sosis goreng            Transfer (QRIS)         2             \n",
              "17 Kentang goreng          Cash                    1             \n",
              "18 Tidak Pesan             Cash                    2             \n",
              "19 Kerupuk                 Transfer (QRIS)         1             \n",
              "20 Tidak Pesan             Cash                    1             \n",
              "21 Tahu isi                Cash                    2             \n",
              "22 Kerupuk                 Cash                    1             \n",
              "23 Tidak Pesan             Cash                    2             \n",
              "24 Tidak Pesan             Transfer (QRIS)         1             \n",
              "25 Tidak Pesan             Cash                    1             \n",
              "26 Sosis goreng            Cash                    0             \n",
              "27 Kerupuk                 Cash                    1             \n",
              "28 Jamur goreng            Transfer (QRIS)         1             \n",
              "29 Tidak Pesan             Cash                    2             \n",
              "30 Tidak Pesan             Cash                    5             \n",
              "31 Tidak Pesan             Cash                    1             \n",
              "32 Tidak Pesan             Transfer (QRIS)         1             \n",
              "33 Kerupuk                 Cash                    2             \n",
              "34 Tidak Pesan             Cash                    2             \n",
              "   Jumlah.Minuman Jumlah.Snack\n",
              "1  1              0           \n",
              "2  2              2           \n",
              "3  1              1           \n",
              "4  5              5           \n",
              "5  1              1           \n",
              "6  5              5           \n",
              "7  1              0           \n",
              "8  1              2           \n",
              "9  1              0           \n",
              "10 2              2           \n",
              "11 0              0           \n",
              "12 3              0           \n",
              "13 2              1           \n",
              "14 1              3           \n",
              "15 0              0           \n",
              "16 3              2           \n",
              "17 2              2           \n",
              "18 0              0           \n",
              "19 0              2           \n",
              "20 1              0           \n",
              "21 1              1           \n",
              "22 1              3           \n",
              "23 3              0           \n",
              "24 0              0           \n",
              "25 1              0           \n",
              "26 0              3           \n",
              "27 5              5           \n",
              "28 2              1           \n",
              "29 2              0           \n",
              "30 5              0           \n",
              "31 1              0           \n",
              "32 0              0           \n",
              "33 2              2           \n",
              "34 2              0           "
            ]
          },
          "metadata": {}
        }
      ]
    },
    {
      "cell_type": "code",
      "source": [
        "Mode(data_warmindo$Pilih.metode.pembayaran)"
      ],
      "metadata": {
        "id": "BosTGLKF4mwj",
        "colab": {
          "base_uri": "https://localhost:8080/",
          "height": 34
        },
        "outputId": "c3a05c4a-2bac-401d-a161-863d56b60501"
      },
      "execution_count": null,
      "outputs": [
        {
          "output_type": "display_data",
          "data": {
            "text/html": [
              "'Cash'"
            ],
            "text/markdown": "'Cash'",
            "text/latex": "'Cash'",
            "text/plain": [
              "[1] \"Cash\""
            ]
          },
          "metadata": {}
        }
      ]
    },
    {
      "cell_type": "code",
      "source": [
        "plot(data_warmindo$Pilih.metode.pembayaran)"
      ],
      "metadata": {
        "id": "JDgWuw3v5OZe",
        "colab": {
          "base_uri": "https://localhost:8080/",
          "height": 437
        },
        "outputId": "4968c652-f881-46c5-e5a5-16debedb0b37"
      },
      "execution_count": null,
      "outputs": [
        {
          "output_type": "display_data",
          "data": {
            "text/plain": [
              "plot without title"
            ],
            "image/png": "[encoded data removed]"
          },
          "metadata": {
            "image/png": {
              "width": 420,
              "height": 420
            }
          }
        }
      ]
    },
    {
      "cell_type": "markdown",
      "source": [
        "Dari hasil data kami, kami menemukan bahwa terdapat perbandingan antara jumlah pelanggan yang menggunakan metode pembayaran transfer lebih rendah dibandingkan dengan pelanggan yang menggunakan metode pembayaran cash. Hal ini dapat dilihat dengan visualisasi plot diatas, dimana dari data kami terdapat 10 orang yang mengguanakan pembayaran transfer dan 25 orang yang menggunakan metode pembayaran cash."
      ],
      "metadata": {
        "id": "ezCX2_Zh5g_9"
      }
    },
    {
      "cell_type": "code",
      "source": [
        "Mode(data_warmindo$Pilih.Makanan.dibawah.ini)"
      ],
      "metadata": {
        "id": "28Xuwgo-5fxz",
        "colab": {
          "base_uri": "https://localhost:8080/",
          "height": 34
        },
        "outputId": "45d0903c-14ac-497f-b9d9-603cb2a98049"
      },
      "execution_count": null,
      "outputs": [
        {
          "output_type": "display_data",
          "data": {
            "text/html": [
              "'Nasi Goreng'"
            ],
            "text/markdown": "'Nasi Goreng'",
            "text/latex": "'Nasi Goreng'",
            "text/plain": [
              "[1] \"Nasi Goreng\""
            ]
          },
          "metadata": {}
        }
      ]
    },
    {
      "cell_type": "code",
      "source": [
        "unique(data_warmindo$Pilih.Makanan.dibawah.ini)"
      ],
      "metadata": {
        "id": "zrWfYHVPBHHQ",
        "colab": {
          "base_uri": "https://localhost:8080/",
          "height": 52
        },
        "outputId": "e49b5485-3e11-42c0-ed9a-950974a241a2"
      },
      "execution_count": null,
      "outputs": [
        {
          "output_type": "display_data",
          "data": {
            "text/html": [
              "<style>\n",
              ".list-inline {list-style: none; margin:0; padding: 0}\n",
              ".list-inline>li {display: inline-block}\n",
              ".list-inline>li:not(:last-child)::after {content: \"\\00b7\"; padding: 0 .5ex}\n",
              "</style>\n",
              "<ol class=list-inline><li>Nasi Goreng</li><li>Nasi Ayam</li><li>Magelangan</li><li>Mie dok-dok</li><li>Nasi Orak-Arik</li><li>Nasi Sayur</li><li>Mie goreng</li><li>Nasi Ikan</li><li>Tidak Pesan</li><li>Mie rebus</li><li>Nasi Telur</li></ol>\n",
              "\n",
              "<details>\n",
              "\t<summary style=display:list-item;cursor:pointer>\n",
              "\t\t<strong>Levels</strong>:\n",
              "\t</summary>\n",
              "\t<style>\n",
              "\t.list-inline {list-style: none; margin:0; padding: 0}\n",
              "\t.list-inline>li {display: inline-block}\n",
              "\t.list-inline>li:not(:last-child)::after {content: \"\\00b7\"; padding: 0 .5ex}\n",
              "\t</style>\n",
              "\t<ol class=list-inline><li>'Magelangan'</li><li>'Mie dok-dok'</li><li>'Mie goreng'</li><li>'Mie rebus'</li><li>'Nasi Ayam'</li><li>'Nasi Goreng'</li><li>'Nasi Ikan'</li><li>'Nasi Orak-Arik'</li><li>'Nasi Sayur'</li><li>'Nasi Telur'</li><li>'Tidak Pesan'</li></ol>\n",
              "</details>"
            ],
            "text/markdown": "1. Nasi Goreng\n2. Nasi Ayam\n3. Magelangan\n4. Mie dok-dok\n5. Nasi Orak-Arik\n6. Nasi Sayur\n7. Mie goreng\n8. Nasi Ikan\n9. Tidak Pesan\n10. Mie rebus\n11. Nasi Telur\n\n\n\n**Levels**: 1. 'Magelangan'\n2. 'Mie dok-dok'\n3. 'Mie goreng'\n4. 'Mie rebus'\n5. 'Nasi Ayam'\n6. 'Nasi Goreng'\n7. 'Nasi Ikan'\n8. 'Nasi Orak-Arik'\n9. 'Nasi Sayur'\n10. 'Nasi Telur'\n11. 'Tidak Pesan'\n\n\n",
            "text/latex": "\\begin{enumerate*}\n\\item Nasi Goreng\n\\item Nasi Ayam\n\\item Magelangan\n\\item Mie dok-dok\n\\item Nasi Orak-Arik\n\\item Nasi Sayur\n\\item Mie goreng\n\\item Nasi Ikan\n\\item Tidak Pesan\n\\item Mie rebus\n\\item Nasi Telur\n\\end{enumerate*}\n\n\\emph{Levels}: \\begin{enumerate*}\n\\item 'Magelangan'\n\\item 'Mie dok-dok'\n\\item 'Mie goreng'\n\\item 'Mie rebus'\n\\item 'Nasi Ayam'\n\\item 'Nasi Goreng'\n\\item 'Nasi Ikan'\n\\item 'Nasi Orak-Arik'\n\\item 'Nasi Sayur'\n\\item 'Nasi Telur'\n\\item 'Tidak Pesan'\n\\end{enumerate*}\n",
            "text/plain": [
              " [1] Nasi Goreng    Nasi Ayam      Magelangan     Mie dok-dok    Nasi Orak-Arik\n",
              " [6] Nasi Sayur     Mie goreng     Nasi Ikan      Tidak Pesan    Mie rebus     \n",
              "[11] Nasi Telur    \n",
              "11 Levels: Magelangan Mie dok-dok Mie goreng Mie rebus ... Tidak Pesan"
            ]
          },
          "metadata": {}
        }
      ]
    },
    {
      "cell_type": "code",
      "source": [
        "setwarna <- brewer.pal(11, \"Paired\")"
      ],
      "metadata": {
        "id": "-4o0Nz2rDNBc"
      },
      "execution_count": null,
      "outputs": []
    },
    {
      "cell_type": "code",
      "source": [
        "x<-table(data_warmindo$Pilih.Makanan.dibawah.ini)"
      ],
      "metadata": {
        "id": "559ZX1Gm-Y_0"
      },
      "execution_count": null,
      "outputs": []
    },
    {
      "cell_type": "code",
      "source": [
        "pie_percent = round(100*x/sum(x), 1)"
      ],
      "metadata": {
        "id": "NhaU5Bsa-W5_"
      },
      "execution_count": null,
      "outputs": []
    },
    {
      "cell_type": "code",
      "source": [
        "pie(x, labels=pie_percent,\n",
        "    main = \"Menu Makan Warmindo\",\n",
        "    col = setwarna)\n",
        "legend(\"topright\",\n",
        "       legend=names(table(data_warmindo$Pilih.Makanan.dibawah.ini)),\n",
        "       cex = 0.8,\n",
        "       fill = setwarna)"
      ],
      "metadata": {
        "id": "QuF65PlR-nkZ",
        "colab": {
          "base_uri": "https://localhost:8080/",
          "height": 437
        },
        "outputId": "1e9b3531-188f-4a1b-e7d0-42eb4de3f102"
      },
      "execution_count": null,
      "outputs": [
        {
          "output_type": "display_data",
          "data": {
            "text/plain": [
              "Plot with title “Menu Makan Warmindo”"
            ],
            "image/png": "[encoded data removed]"
          },
          "metadata": {
            "image/png": {
              "width": 420,
              "height": 420
            }
          }
        }
      ]
    },
    {
      "cell_type": "markdown",
      "source": [
        "Dari data yang kami proses didapati bahwa terdapat 11 menu makanan yang dipesan oleh responden kami. Kami mencoba mencari menu makanan yang paling sering dipesan oleh responden kami, dan menu yang paling sering dipesan adalah Nasi Goreng. Hal ini menunjukan bahwa sejumlah responden kami merupakan orang-orang dengan aktivitas yang padat sehingga membutuhkan kalori yang tinggi. Dari data kami juga hampir semua responden kami memesan makanan dengan kandungan karbohidrat didalamnnya. Hal ini berarti warmindo dijadikan tempat makan disela-sela kesibukan responden kami"
      ],
      "metadata": {
        "id": "n4HnbV03DXqf"
      }
    },
    {
      "cell_type": "code",
      "source": [
        "Mode(data_warmindo$Pilih.Minuman.dibawah.ini)"
      ],
      "metadata": {
        "id": "h0j1B_idAFep",
        "colab": {
          "base_uri": "https://localhost:8080/",
          "height": 34
        },
        "outputId": "a274c100-5fcd-445b-a2f2-45e8777b2e77"
      },
      "execution_count": null,
      "outputs": [
        {
          "output_type": "display_data",
          "data": {
            "text/html": [
              "'Es teh'"
            ],
            "text/markdown": "'Es teh'",
            "text/latex": "'Es teh'",
            "text/plain": [
              "[1] \"Es teh\""
            ]
          },
          "metadata": {}
        }
      ]
    },
    {
      "cell_type": "code",
      "source": [
        "unique(data_warmindo$Pilih.Minuman.dibawah.ini)"
      ],
      "metadata": {
        "id": "JgLDhajaF7lB",
        "colab": {
          "base_uri": "https://localhost:8080/",
          "height": 52
        },
        "outputId": "47528a66-0a36-425a-8518-ee89d4d6870e"
      },
      "execution_count": null,
      "outputs": [
        {
          "output_type": "display_data",
          "data": {
            "text/html": [
              "<style>\n",
              ".list-inline {list-style: none; margin:0; padding: 0}\n",
              ".list-inline>li {display: inline-block}\n",
              ".list-inline>li:not(:last-child)::after {content: \"\\00b7\"; padding: 0 .5ex}\n",
              "</style>\n",
              "<ol class=list-inline><li>Es teh</li><li>Air es</li><li>Nutrisari</li><li>Tidak Pesan</li><li>Kopi</li><li>Susu</li><li>Jas jus</li></ol>\n",
              "\n",
              "<details>\n",
              "\t<summary style=display:list-item;cursor:pointer>\n",
              "\t\t<strong>Levels</strong>:\n",
              "\t</summary>\n",
              "\t<style>\n",
              "\t.list-inline {list-style: none; margin:0; padding: 0}\n",
              "\t.list-inline>li {display: inline-block}\n",
              "\t.list-inline>li:not(:last-child)::after {content: \"\\00b7\"; padding: 0 .5ex}\n",
              "\t</style>\n",
              "\t<ol class=list-inline><li>'Air es'</li><li>'Es teh'</li><li>'Jas jus'</li><li>'Kopi'</li><li>'Nutrisari'</li><li>'Susu'</li><li>'Tidak Pesan'</li></ol>\n",
              "</details>"
            ],
            "text/markdown": "1. Es teh\n2. Air es\n3. Nutrisari\n4. Tidak Pesan\n5. Kopi\n6. Susu\n7. Jas jus\n\n\n\n**Levels**: 1. 'Air es'\n2. 'Es teh'\n3. 'Jas jus'\n4. 'Kopi'\n5. 'Nutrisari'\n6. 'Susu'\n7. 'Tidak Pesan'\n\n\n",
            "text/latex": "\\begin{enumerate*}\n\\item Es teh\n\\item Air es\n\\item Nutrisari\n\\item Tidak Pesan\n\\item Kopi\n\\item Susu\n\\item Jas jus\n\\end{enumerate*}\n\n\\emph{Levels}: \\begin{enumerate*}\n\\item 'Air es'\n\\item 'Es teh'\n\\item 'Jas jus'\n\\item 'Kopi'\n\\item 'Nutrisari'\n\\item 'Susu'\n\\item 'Tidak Pesan'\n\\end{enumerate*}\n",
            "text/plain": [
              "[1] Es teh      Air es      Nutrisari   Tidak Pesan Kopi        Susu       \n",
              "[7] Jas jus    \n",
              "Levels: Air es Es teh Jas jus Kopi Nutrisari Susu Tidak Pesan"
            ]
          },
          "metadata": {}
        }
      ]
    },
    {
      "cell_type": "code",
      "source": [
        "length(table(data_warmindo$Pilih.Minuman.dibawah.ini))"
      ],
      "metadata": {
        "id": "dniB_dHlH_TH",
        "colab": {
          "base_uri": "https://localhost:8080/",
          "height": 34
        },
        "outputId": "9d1711d5-f5c9-4b58-b755-5419807d6bc0"
      },
      "execution_count": null,
      "outputs": [
        {
          "output_type": "display_data",
          "data": {
            "text/html": [
              "7"
            ],
            "text/markdown": "7",
            "text/latex": "7",
            "text/plain": [
              "[1] 7"
            ]
          },
          "metadata": {}
        }
      ]
    },
    {
      "cell_type": "code",
      "source": [
        "setwarna2 <- brewer.pal(7, \"Paired\")"
      ],
      "metadata": {
        "id": "qgcjFuHyIGn1"
      },
      "execution_count": null,
      "outputs": []
    },
    {
      "cell_type": "code",
      "source": [
        "jumlah_val_minuman <- data_warmindo %>% count(data_warmindo$Pilih.Minuman.dibawah.ini)\n",
        "jumlah_val_minuman"
      ],
      "metadata": {
        "id": "fEUNpghCK3Am",
        "colab": {
          "base_uri": "https://localhost:8080/",
          "height": 317
        },
        "outputId": "9e0707d9-6726-4452-907a-62115c9264dd"
      },
      "execution_count": null,
      "outputs": [
        {
          "output_type": "display_data",
          "data": {
            "text/html": [
              "<table class=\"dataframe\">\n",
              "<caption>A data.frame: 7 × 2</caption>\n",
              "<thead>\n",
              "\t<tr><th scope=col>data_warmindo$Pilih.Minuman.dibawah.ini</th><th scope=col>n</th></tr>\n",
              "\t<tr><th scope=col>&lt;fct&gt;</th><th scope=col>&lt;int&gt;</th></tr>\n",
              "</thead>\n",
              "<tbody>\n",
              "\t<tr><td>Air es     </td><td>5</td></tr>\n",
              "\t<tr><td>Es teh     </td><td>9</td></tr>\n",
              "\t<tr><td>Jas jus    </td><td>4</td></tr>\n",
              "\t<tr><td>Kopi       </td><td>1</td></tr>\n",
              "\t<tr><td>Nutrisari  </td><td>6</td></tr>\n",
              "\t<tr><td>Susu       </td><td>2</td></tr>\n",
              "\t<tr><td>Tidak Pesan</td><td>7</td></tr>\n",
              "</tbody>\n",
              "</table>\n"
            ],
            "text/markdown": "\nA data.frame: 7 × 2\n\n| data_warmindo$Pilih.Minuman.dibawah.ini &lt;fct&gt; | n &lt;int&gt; |\n|---|---|\n| Air es      | 5 |\n| Es teh      | 9 |\n| Jas jus     | 4 |\n| Kopi        | 1 |\n| Nutrisari   | 6 |\n| Susu        | 2 |\n| Tidak Pesan | 7 |\n\n",
            "text/latex": "A data.frame: 7 × 2\n\\begin{tabular}{ll}\n data\\_warmindo\\$Pilih.Minuman.dibawah.ini & n\\\\\n <fct> & <int>\\\\\n\\hline\n\t Air es      & 5\\\\\n\t Es teh      & 9\\\\\n\t Jas jus     & 4\\\\\n\t Kopi        & 1\\\\\n\t Nutrisari   & 6\\\\\n\t Susu        & 2\\\\\n\t Tidak Pesan & 7\\\\\n\\end{tabular}\n",
            "text/plain": [
              "  data_warmindo$Pilih.Minuman.dibawah.ini n\n",
              "1 Air es                                  5\n",
              "2 Es teh                                  9\n",
              "3 Jas jus                                 4\n",
              "4 Kopi                                    1\n",
              "5 Nutrisari                               6\n",
              "6 Susu                                    2\n",
              "7 Tidak Pesan                             7"
            ]
          },
          "metadata": {}
        }
      ]
    },
    {
      "cell_type": "code",
      "source": [
        "my_bar <- barplot(table(data_warmindo$Pilih.Minuman.dibawah.ini) , border=F , names.arg=names(table(data_warmindo$Pilih.Minuman.dibawah.ini)) ,\n",
        "                  las=2 ,\n",
        "                  col=setwarna2 ,\n",
        "                  ylim=c(0,13) ,\n",
        "                  main=\"Pilihan Minuman Warmindo oleh Responden\" )"
      ],
      "metadata": {
        "id": "7xZ9j14KGoQP",
        "colab": {
          "base_uri": "https://localhost:8080/"
        },
        "outputId": "5c14ddc2-7eb2-43b9-8514-a671c459234b"
      },
      "execution_count": null,
      "outputs": [
        {
          "output_type": "display_data",
          "data": {
            "text/plain": [
              "Plot with title “Pilihan Minuman Warmindo oleh Responden”"
            ],
            "image/png": "[encoded data removed]"
          },
          "metadata": {
            "image/png": {
              "width": 420,
              "height": 420
            }
          }
        }
      ]
    },
    {
      "cell_type": "markdown",
      "source": [
        "berdasarkan hasil dari kolom minuman, dari total 50 pelanggan, didapatkan bahwa minuman yang sering dibeli oleh pelanggan adalah es teh dengan jumlah 9, lalu diikuti oleh Nutrisari dengan jumlah 6, Air es dengan jumlah 5, Jas jus dengan jumlah 4, susu dengan jumlah 2, dan kopi dengan jumlah 1."
      ],
      "metadata": {
        "id": "Mog54sZYeZS0"
      }
    },
    {
      "cell_type": "code",
      "source": [
        "jumlahMakanan <- sum(data_warmindo$jumlah.makanan)\n",
        "jumlahMinuman <- sum((data_warmindo$Jumlah.Minuman))\n",
        "\n",
        "data_ <- data.frame(\n",
        "  name=c(\"JumlahMakanan\", \"JumlahMinuman\"),\n",
        "  value=c(jumlahMakanan, jumlahMinuman)\n",
        ")\n",
        "ggplot2::ggplot(data_, aes(x=name, y=value)) +\n",
        "  geom_bar(stat = \"identity\")"
      ],
      "metadata": {
        "id": "IuNNVu9QYZ4d",
        "colab": {
          "base_uri": "https://localhost:8080/"
        },
        "outputId": "98a0845f-4292-4388-bfc9-48323b86ee30"
      },
      "execution_count": null,
      "outputs": [
        {
          "output_type": "display_data",
          "data": {
            "text/plain": [
              "plot without title"
            ],
            "image/png": "[encoded data removed]"
          },
          "metadata": {
            "image/png": {
              "width": 420,
              "height": 420
            }
          }
        }
      ]
    },
    {
      "cell_type": "markdown",
      "source": [
        "Dari hasil data yang ditemukan antara makanan dan minuman, ditemui bahwa data makanan terlihat lebih rendah dari data minuman yang dipesan. Hal ini dapat berindikasi bahwa setiap makanan yang dipesan dibarengi bersama minuman tetapi tidak sebaliknya. Hal ini dapat berarti warmindo dapat menambah varian dan stok minuman."
      ],
      "metadata": {
        "id": "2_f15GCIdzP0"
      }
    },
    {
      "cell_type": "code",
      "source": [
        "chisq.test(data_warmindo$Pilih.Makanan.dibawah.ini,data_warmindo$Pilih.Minuman.dibawah.ini)"
      ],
      "metadata": {
        "colab": {
          "base_uri": "https://localhost:8080/"
        },
        "id": "B_9scapkgHyZ",
        "outputId": "79a335fa-606f-407e-af65-3e63f663e940"
      },
      "execution_count": null,
      "outputs": [
        {
          "output_type": "stream",
          "name": "stderr",
          "text": [
            "Warning message in chisq.test(data_warmindo$Pilih.Makanan.dibawah.ini, data_warmindo$Pilih.Minuman.dibawah.ini):\n",
            "“Chi-squared approximation may be incorrect”\n"
          ]
        },
        {
          "output_type": "display_data",
          "data": {
            "text/plain": [
              "\n",
              "\tPearson's Chi-squared test\n",
              "\n",
              "data:  data_warmindo$Pilih.Makanan.dibawah.ini and data_warmindo$Pilih.Minuman.dibawah.ini\n",
              "X-squared = 65.164, df = 60, p-value = 0.3019\n"
            ]
          },
          "metadata": {}
        }
      ]
    },
    {
      "cell_type": "code",
      "source": [
        "chisq.test(data_warmindo$jumlah.makanan,data_warmindo$Jumlah.Minuman)"
      ],
      "metadata": {
        "colab": {
          "base_uri": "https://localhost:8080/"
        },
        "id": "tsK1-zufgInU",
        "outputId": "5716ed57-6469-40d2-e6b4-8336f3991bfa"
      },
      "execution_count": null,
      "outputs": [
        {
          "output_type": "stream",
          "name": "stderr",
          "text": [
            "Warning message in chisq.test(data_warmindo$jumlah.makanan, data_warmindo$Jumlah.Minuman):\n",
            "“Chi-squared approximation may be incorrect”\n"
          ]
        },
        {
          "output_type": "display_data",
          "data": {
            "text/plain": [
              "\n",
              "\tPearson's Chi-squared test\n",
              "\n",
              "data:  data_warmindo$jumlah.makanan and data_warmindo$Jumlah.Minuman\n",
              "X-squared = 36.091, df = 16, p-value = 0.00281\n"
            ]
          },
          "metadata": {}
        }
      ]
    },
    {
      "cell_type": "markdown",
      "source": [
        "Berdasarkan Pengujian dengan menggunakan chi-square, kami menemukan bahwa korelasi signifikan terjadi antara jumlah makanan dan minuman. Korelasi ini lebih baik daripada pemilihan makanan dan minuman"
      ],
      "metadata": {
        "id": "RX4DFrmVgQu3"
      }
    }
  ]
}